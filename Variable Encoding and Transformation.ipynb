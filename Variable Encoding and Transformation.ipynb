{
 "cells": [
  {
   "cell_type": "code",
   "execution_count": 15,
   "id": "d8cabb01",
   "metadata": {},
   "outputs": [
    {
     "data": {
      "text/html": [
       "<div>\n",
       "<style scoped>\n",
       "    .dataframe tbody tr th:only-of-type {\n",
       "        vertical-align: middle;\n",
       "    }\n",
       "\n",
       "    .dataframe tbody tr th {\n",
       "        vertical-align: top;\n",
       "    }\n",
       "\n",
       "    .dataframe thead th {\n",
       "        text-align: right;\n",
       "    }\n",
       "</style>\n",
       "<table border=\"1\" class=\"dataframe\">\n",
       "  <thead>\n",
       "    <tr style=\"text-align: right;\">\n",
       "      <th></th>\n",
       "      <th>Decade</th>\n",
       "      <th>Year</th>\n",
       "      <th>Month</th>\n",
       "      <th>Week</th>\n",
       "      <th>Day</th>\n",
       "      <th>Extended</th>\n",
       "      <th>Country</th>\n",
       "      <th>Success</th>\n",
       "      <th>Multiple</th>\n",
       "      <th>Suicide</th>\n",
       "      <th>...</th>\n",
       "      <th>ArmedAssault</th>\n",
       "      <th>Infrastructure</th>\n",
       "      <th>Assassination</th>\n",
       "      <th>UnknownAttack</th>\n",
       "      <th>Explosives</th>\n",
       "      <th>UnknownWeapon</th>\n",
       "      <th>Firearms</th>\n",
       "      <th>Incendiary</th>\n",
       "      <th>Melee</th>\n",
       "      <th>OtherWeapon</th>\n",
       "    </tr>\n",
       "  </thead>\n",
       "  <tbody>\n",
       "    <tr>\n",
       "      <th>0</th>\n",
       "      <td>1970</td>\n",
       "      <td>1970</td>\n",
       "      <td>3</td>\n",
       "      <td>2</td>\n",
       "      <td>14</td>\n",
       "      <td>0</td>\n",
       "      <td>Egypt</td>\n",
       "      <td>1</td>\n",
       "      <td>0</td>\n",
       "      <td>0</td>\n",
       "      <td>...</td>\n",
       "      <td>0</td>\n",
       "      <td>0</td>\n",
       "      <td>0</td>\n",
       "      <td>0</td>\n",
       "      <td>1</td>\n",
       "      <td>0</td>\n",
       "      <td>0</td>\n",
       "      <td>0</td>\n",
       "      <td>0</td>\n",
       "      <td>0</td>\n",
       "    </tr>\n",
       "    <tr>\n",
       "      <th>1</th>\n",
       "      <td>1970</td>\n",
       "      <td>1970</td>\n",
       "      <td>3</td>\n",
       "      <td>4</td>\n",
       "      <td>29</td>\n",
       "      <td>0</td>\n",
       "      <td>Lebanon</td>\n",
       "      <td>1</td>\n",
       "      <td>0</td>\n",
       "      <td>0</td>\n",
       "      <td>...</td>\n",
       "      <td>0</td>\n",
       "      <td>0</td>\n",
       "      <td>0</td>\n",
       "      <td>0</td>\n",
       "      <td>1</td>\n",
       "      <td>0</td>\n",
       "      <td>0</td>\n",
       "      <td>0</td>\n",
       "      <td>0</td>\n",
       "      <td>0</td>\n",
       "    </tr>\n",
       "    <tr>\n",
       "      <th>2</th>\n",
       "      <td>1970</td>\n",
       "      <td>1970</td>\n",
       "      <td>4</td>\n",
       "      <td>3</td>\n",
       "      <td>15</td>\n",
       "      <td>0</td>\n",
       "      <td>OtherCountry</td>\n",
       "      <td>1</td>\n",
       "      <td>0</td>\n",
       "      <td>0</td>\n",
       "      <td>...</td>\n",
       "      <td>0</td>\n",
       "      <td>0</td>\n",
       "      <td>0</td>\n",
       "      <td>0</td>\n",
       "      <td>1</td>\n",
       "      <td>0</td>\n",
       "      <td>0</td>\n",
       "      <td>0</td>\n",
       "      <td>0</td>\n",
       "      <td>0</td>\n",
       "    </tr>\n",
       "    <tr>\n",
       "      <th>3</th>\n",
       "      <td>1970</td>\n",
       "      <td>1970</td>\n",
       "      <td>4</td>\n",
       "      <td>4</td>\n",
       "      <td>25</td>\n",
       "      <td>0</td>\n",
       "      <td>Turkey</td>\n",
       "      <td>1</td>\n",
       "      <td>0</td>\n",
       "      <td>0</td>\n",
       "      <td>...</td>\n",
       "      <td>0</td>\n",
       "      <td>0</td>\n",
       "      <td>0</td>\n",
       "      <td>0</td>\n",
       "      <td>1</td>\n",
       "      <td>0</td>\n",
       "      <td>0</td>\n",
       "      <td>0</td>\n",
       "      <td>0</td>\n",
       "      <td>0</td>\n",
       "    </tr>\n",
       "    <tr>\n",
       "      <th>4</th>\n",
       "      <td>1970</td>\n",
       "      <td>1970</td>\n",
       "      <td>6</td>\n",
       "      <td>1</td>\n",
       "      <td>7</td>\n",
       "      <td>1</td>\n",
       "      <td>OtherCountry</td>\n",
       "      <td>1</td>\n",
       "      <td>0</td>\n",
       "      <td>0</td>\n",
       "      <td>...</td>\n",
       "      <td>0</td>\n",
       "      <td>0</td>\n",
       "      <td>0</td>\n",
       "      <td>0</td>\n",
       "      <td>0</td>\n",
       "      <td>1</td>\n",
       "      <td>0</td>\n",
       "      <td>0</td>\n",
       "      <td>0</td>\n",
       "      <td>0</td>\n",
       "    </tr>\n",
       "  </tbody>\n",
       "</table>\n",
       "<p>5 rows × 83 columns</p>\n",
       "</div>"
      ],
      "text/plain": [
       "   Decade  Year  Month  Week  Day  Extended       Country  Success  Multiple  \\\n",
       "0    1970  1970      3     2   14         0         Egypt        1         0   \n",
       "1    1970  1970      3     4   29         0       Lebanon        1         0   \n",
       "2    1970  1970      4     3   15         0  OtherCountry        1         0   \n",
       "3    1970  1970      4     4   25         0        Turkey        1         0   \n",
       "4    1970  1970      6     1    7         1  OtherCountry        1         0   \n",
       "\n",
       "   Suicide  ... ArmedAssault Infrastructure Assassination UnknownAttack  \\\n",
       "0        0  ...            0              0             0             0   \n",
       "1        0  ...            0              0             0             0   \n",
       "2        0  ...            0              0             0             0   \n",
       "3        0  ...            0              0             0             0   \n",
       "4        0  ...            0              0             0             0   \n",
       "\n",
       "  Explosives UnknownWeapon  Firearms  Incendiary  Melee  OtherWeapon  \n",
       "0          1             0         0           0      0            0  \n",
       "1          1             0         0           0      0            0  \n",
       "2          1             0         0           0      0            0  \n",
       "3          1             0         0           0      0            0  \n",
       "4          0             1         0           0      0            0  \n",
       "\n",
       "[5 rows x 83 columns]"
      ]
     },
     "execution_count": 15,
     "metadata": {},
     "output_type": "execute_result"
    }
   ],
   "source": [
    "import pandas as pd\n",
    "import matplotlib.pyplot as plt\n",
    "import numpy as np\n",
    "import seaborn as sns\n",
    "from sklearn.metrics import mean_absolute_error\n",
    "import matplotlib.pyplot as plt\n",
    "csv_df = pd.read_csv('C:/ME Lethal Prediction/ME_FNL1.csv')\n",
    "csv_df.head()"
   ]
  },
  {
   "cell_type": "code",
   "execution_count": 16,
   "id": "a2bc79c7",
   "metadata": {},
   "outputs": [
    {
     "name": "stdout",
     "output_type": "stream",
     "text": [
      "<class 'pandas.core.frame.DataFrame'>\n",
      "RangeIndex: 35766 entries, 0 to 35765\n",
      "Data columns (total 83 columns):\n",
      " #   Column                  Non-Null Count  Dtype \n",
      "---  ------                  --------------  ----- \n",
      " 0   Decade                  35766 non-null  int64 \n",
      " 1   Year                    35766 non-null  int64 \n",
      " 2   Month                   35766 non-null  int64 \n",
      " 3   Week                    35766 non-null  int64 \n",
      " 4   Day                     35766 non-null  int64 \n",
      " 5   Extended                35766 non-null  int64 \n",
      " 6   Country                 35766 non-null  object\n",
      " 7   Success                 35766 non-null  int64 \n",
      " 8   Multiple                35766 non-null  int64 \n",
      " 9   Suicide                 35766 non-null  int64 \n",
      " 10  Attack                  35766 non-null  object\n",
      " 11  Weapon                  35766 non-null  object\n",
      " 12  Province                35766 non-null  object\n",
      " 13  City                    35766 non-null  object\n",
      " 14  Group                   35766 non-null  object\n",
      " 15  Target                  35766 non-null  object\n",
      " 16  Lethal                  35766 non-null  int64 \n",
      " 17  Decade1970              35766 non-null  int64 \n",
      " 18  Decade1980              35766 non-null  int64 \n",
      " 19  Decade1990              35766 non-null  int64 \n",
      " 20  Decade2000              35766 non-null  int64 \n",
      " 21  Decade2010              35766 non-null  int64 \n",
      " 22  Egypt                   35766 non-null  int64 \n",
      " 23  Lebanon                 35766 non-null  int64 \n",
      " 24  OtherCountry            35766 non-null  int64 \n",
      " 25  Turkey                  35766 non-null  int64 \n",
      " 26  Israel                  35766 non-null  int64 \n",
      " 27  Algeria                 35766 non-null  int64 \n",
      " 28  Syria                   35766 non-null  int64 \n",
      " 29  WestBankGazaStrip       35766 non-null  int64 \n",
      " 30  Iraq                    35766 non-null  int64 \n",
      " 31  Libya                   35766 non-null  int64 \n",
      " 32  Yemen                   35766 non-null  int64 \n",
      " 33  OtherProvince           35766 non-null  int64 \n",
      " 34  BeirutProvince          35766 non-null  int64 \n",
      " 35  IstanbulProvince        35766 non-null  int64 \n",
      " 36  AleppoProvince          35766 non-null  int64 \n",
      " 37  WestBankProvince        35766 non-null  int64 \n",
      " 38  BaghdadProvince         35766 non-null  int64 \n",
      " 39  SouthernProvince        35766 non-null  int64 \n",
      " 40  BenghaziProvince        35766 non-null  int64 \n",
      " 41  NinevehProvince         35766 non-null  int64 \n",
      " 42  SaladinProvince         35766 non-null  int64 \n",
      " 43  AlAnbarProvince         35766 non-null  int64 \n",
      " 44  DiyalaProvince          35766 non-null  int64 \n",
      " 45  KirkukProvince          35766 non-null  int64 \n",
      " 46  BabilProvince           35766 non-null  int64 \n",
      " 47  NorthSinaiProvince      35766 non-null  int64 \n",
      " 48  OtherCity               35766 non-null  int64 \n",
      " 49  BeirutCity              35766 non-null  int64 \n",
      " 50  IstanbulCity            35766 non-null  int64 \n",
      " 51  BaghdadCity             35766 non-null  int64 \n",
      " 52  KirkukCity              35766 non-null  int64 \n",
      " 53  BenghaziCity            35766 non-null  int64 \n",
      " 54  MosulCity               35766 non-null  int64 \n",
      " 55  BaqubahCity             35766 non-null  int64 \n",
      " 56  OtherTarget             35766 non-null  int64 \n",
      " 57  GovernmentDiplomatic    35766 non-null  int64 \n",
      " 58  Business                35766 non-null  int64 \n",
      " 59  Police                  35766 non-null  int64 \n",
      " 60  Military                35766 non-null  int64 \n",
      " 61  GovernmentGeneral       35766 non-null  int64 \n",
      " 62  Private                 35766 non-null  int64 \n",
      " 63  EducationalInstitution  35766 non-null  int64 \n",
      " 64  JournalistsMedia        35766 non-null  int64 \n",
      " 65  Utilities               35766 non-null  int64 \n",
      " 66  ReligiousInstitute      35766 non-null  int64 \n",
      " 67  TerroristsTarget        35766 non-null  int64 \n",
      " 68  UnknownTarget           35766 non-null  int64 \n",
      " 69  Transportation          35766 non-null  int64 \n",
      " 70  Bomb                    35766 non-null  int64 \n",
      " 71  HostageKidnap           35766 non-null  int64 \n",
      " 72  OtherAttack             35766 non-null  int64 \n",
      " 73  ArmedAssault            35766 non-null  int64 \n",
      " 74  Infrastructure          35766 non-null  int64 \n",
      " 75  Assassination           35766 non-null  int64 \n",
      " 76  UnknownAttack           35766 non-null  int64 \n",
      " 77  Explosives              35766 non-null  int64 \n",
      " 78  UnknownWeapon           35766 non-null  int64 \n",
      " 79  Firearms                35766 non-null  int64 \n",
      " 80  Incendiary              35766 non-null  int64 \n",
      " 81  Melee                   35766 non-null  int64 \n",
      " 82  OtherWeapon             35766 non-null  int64 \n",
      "dtypes: int64(76), object(7)\n",
      "memory usage: 22.6+ MB\n"
     ]
    }
   ],
   "source": [
    "csv_df.info()"
   ]
  },
  {
   "cell_type": "markdown",
   "id": "710e9a98",
   "metadata": {},
   "source": [
    "# Encoding with integers in an ordered manner"
   ]
  },
  {
   "cell_type": "code",
   "execution_count": 17,
   "id": "76483c1c",
   "metadata": {},
   "outputs": [],
   "source": [
    "from feature_engine.encoding import OneHotEncoder \n",
    "# the following is not used anymore from feature_engine import categorical_encoders as ce "
   ]
  },
  {
   "cell_type": "code",
   "execution_count": 18,
   "id": "457365bd",
   "metadata": {},
   "outputs": [],
   "source": [
    "from sklearn.preprocessing import OrdinalEncoder"
   ]
  },
  {
   "cell_type": "code",
   "execution_count": 19,
   "id": "1ca5b33e",
   "metadata": {},
   "outputs": [],
   "source": [
    "# define x and y\n",
    "feature_cols = ['Attack', 'Lethal']\n",
    "X = csv_df[feature_cols]\n",
    "Y = csv_df.Lethal\n",
    "X = pd.DataFrame(X)\n",
    "Y = pd.DataFrame(Y)\n",
    "# split X and Y into training and test sets\n",
    "from sklearn.model_selection import train_test_split\n",
    "\n",
    "X_train, X_test, Y_train, Y_test = train_test_split(X, Y, test_size = 0.25, stratify = Y, shuffle = True, random_state = 66)"
   ]
  },
  {
   "cell_type": "code",
   "execution_count": 20,
   "id": "e34e3dcc",
   "metadata": {},
   "outputs": [
    {
     "data": {
      "text/html": [
       "<div>\n",
       "<style scoped>\n",
       "    .dataframe tbody tr th:only-of-type {\n",
       "        vertical-align: middle;\n",
       "    }\n",
       "\n",
       "    .dataframe tbody tr th {\n",
       "        vertical-align: top;\n",
       "    }\n",
       "\n",
       "    .dataframe thead th {\n",
       "        text-align: right;\n",
       "    }\n",
       "</style>\n",
       "<table border=\"1\" class=\"dataframe\">\n",
       "  <thead>\n",
       "    <tr style=\"text-align: right;\">\n",
       "      <th></th>\n",
       "      <th>Attack</th>\n",
       "      <th>Lethal</th>\n",
       "    </tr>\n",
       "  </thead>\n",
       "  <tbody>\n",
       "    <tr>\n",
       "      <th>26472</th>\n",
       "      <td>UnknownAttack</td>\n",
       "      <td>1</td>\n",
       "    </tr>\n",
       "    <tr>\n",
       "      <th>7334</th>\n",
       "      <td>Bomb</td>\n",
       "      <td>0</td>\n",
       "    </tr>\n",
       "    <tr>\n",
       "      <th>24905</th>\n",
       "      <td>Bomb</td>\n",
       "      <td>0</td>\n",
       "    </tr>\n",
       "    <tr>\n",
       "      <th>17007</th>\n",
       "      <td>ArmedAssault</td>\n",
       "      <td>1</td>\n",
       "    </tr>\n",
       "    <tr>\n",
       "      <th>2361</th>\n",
       "      <td>Infrastructure</td>\n",
       "      <td>0</td>\n",
       "    </tr>\n",
       "    <tr>\n",
       "      <th>...</th>\n",
       "      <td>...</td>\n",
       "      <td>...</td>\n",
       "    </tr>\n",
       "    <tr>\n",
       "      <th>25525</th>\n",
       "      <td>Bomb</td>\n",
       "      <td>1</td>\n",
       "    </tr>\n",
       "    <tr>\n",
       "      <th>31950</th>\n",
       "      <td>Bomb</td>\n",
       "      <td>0</td>\n",
       "    </tr>\n",
       "    <tr>\n",
       "      <th>4527</th>\n",
       "      <td>Bomb</td>\n",
       "      <td>0</td>\n",
       "    </tr>\n",
       "    <tr>\n",
       "      <th>1622</th>\n",
       "      <td>Bomb</td>\n",
       "      <td>0</td>\n",
       "    </tr>\n",
       "    <tr>\n",
       "      <th>1291</th>\n",
       "      <td>ArmedAssault</td>\n",
       "      <td>0</td>\n",
       "    </tr>\n",
       "  </tbody>\n",
       "</table>\n",
       "<p>26824 rows × 2 columns</p>\n",
       "</div>"
      ],
      "text/plain": [
       "               Attack  Lethal\n",
       "26472   UnknownAttack       1\n",
       "7334             Bomb       0\n",
       "24905            Bomb       0\n",
       "17007    ArmedAssault       1\n",
       "2361   Infrastructure       0\n",
       "...               ...     ...\n",
       "25525            Bomb       1\n",
       "31950            Bomb       0\n",
       "4527             Bomb       0\n",
       "1622             Bomb       0\n",
       "1291     ArmedAssault       0\n",
       "\n",
       "[26824 rows x 2 columns]"
      ]
     },
     "execution_count": 20,
     "metadata": {},
     "output_type": "execute_result"
    }
   ],
   "source": [
    "X_train"
   ]
  },
  {
   "cell_type": "code",
   "execution_count": 21,
   "id": "a1ddf4ba",
   "metadata": {},
   "outputs": [
    {
     "data": {
      "image/png": "[encoded data removed]",
      "text/plain": [
       "<Figure size 432x288 with 1 Axes>"
      ]
     },
     "metadata": {
      "needs_background": "light"
     },
     "output_type": "display_data"
    }
   ],
   "source": [
    "# Let's plot the mean Lethal target response per category of the Attack variable:\n",
    "X_train.groupby(['Attack'])['Lethal'].mean().plot()\n",
    "plt.title('Relationship between Attack and Lethal')\n",
    "plt.ylabel('Mean of Lethal')\n",
    "plt.show()\n",
    "# We can see the non-monotonic relationship between categories of Attack and the target, Lethal, in the following screenshot:"
   ]
  },
  {
   "cell_type": "markdown",
   "id": "85487abd",
   "metadata": {},
   "source": [
    "Now, let's calculate the mean target value per category in A7, then let's sort the categories from that with the lowest to that with the highest target value, and finally, let's retain the ordered category names:"
   ]
  },
  {
   "cell_type": "code",
   "execution_count": 22,
   "id": "d16c3d2e",
   "metadata": {},
   "outputs": [],
   "source": [
    "ordered_labels = X_train.groupby(['Attack'])['Lethal'].mean().sort_values().index"
   ]
  },
  {
   "cell_type": "code",
   "execution_count": 23,
   "id": "9330e1c1",
   "metadata": {},
   "outputs": [],
   "source": [
    "# Let's create a dictionary of category to integer pairs, using the ordered list we created in the previous step:\n",
    "ordinal_mapping = {k: i for i, k in enumerate(ordered_labels, 0)}"
   ]
  },
  {
   "cell_type": "code",
   "execution_count": 24,
   "id": "b02a36ef",
   "metadata": {},
   "outputs": [
    {
     "name": "stdout",
     "output_type": "stream",
     "text": [
      "{'Infrastructure': 0, 'HostageKidnap': 1, 'OtherAttack': 2, 'Bomb': 3, 'UnknownAttack': 4, 'Assassination': 5, 'ArmedAssault': 6}\n"
     ]
    }
   ],
   "source": [
    "# We can visualize the result of the preceding code executing\n",
    "print(ordinal_mapping)"
   ]
  },
  {
   "cell_type": "code",
   "execution_count": 25,
   "id": "d5b0031b",
   "metadata": {},
   "outputs": [],
   "source": [
    "# Let's use the dictionary created in a previous step to replace the categories in Attack in the train and test sets:\n",
    "X_train['Attack'] = X_train['Attack'].map(ordinal_mapping)\n",
    "X_test['Attack'] = X_test['Attack'].map(ordinal_mapping)"
   ]
  },
  {
   "cell_type": "code",
   "execution_count": 26,
   "id": "9d3b3c54",
   "metadata": {},
   "outputs": [
    {
     "data": {
      "image/png": "[encoded data removed]",
      "text/plain": [
       "<Figure size 432x288 with 1 Axes>"
      ]
     },
     "metadata": {
      "needs_background": "light"
     },
     "output_type": "display_data"
    }
   ],
   "source": [
    "# Let's plot the mean target value per category in the encoded variable:\n",
    "X_train.groupby(['Attack'])['Lethal'].mean().plot()\n",
    "plt.title('Relationship between Attack and Lethal')\n",
    "plt.ylabel('Mean of Lethal')\n",
    "plt.show()"
   ]
  },
  {
   "cell_type": "markdown",
   "id": "ede1d342",
   "metadata": {},
   "source": [
    "Now, let's perform ordered ordinal encoding using Feature-engine."
   ]
  },
  {
   "cell_type": "code",
   "execution_count": 27,
   "id": "dffa8b66",
   "metadata": {},
   "outputs": [],
   "source": [
    "X_train, X_test, Y_train, Y_test = train_test_split(X.drop(labels = ['Lethal'], axis = 1), \n",
    "                                                    X['Lethal'], \n",
    "                                                    test_size = 0.3, \n",
    "                                                    random_state = 0)"
   ]
  },
  {
   "cell_type": "markdown",
   "id": "f0d5fe38",
   "metadata": {},
   "source": [
    "Note that to encode with integers based on the target with Feature-engine, we don't need to keep the target in the X_train and X_test datasets. Next, let's create an encoder that assigns digits to categories according to the target mean value, and encodes all categorical variables in the dataset:"
   ]
  },
  {
   "cell_type": "code",
   "execution_count": 28,
   "id": "ee9b2a24",
   "metadata": {},
   "outputs": [],
   "source": [
    "from feature_engine.encoding import OrdinalEncoder\n",
    "ordinal_enc = OrdinalEncoder(encoding_method = 'ordered', variables = None)"
   ]
  },
  {
   "cell_type": "markdown",
   "id": "29e30885",
   "metadata": {},
   "source": [
    "Let's fit the encoder to the train set so that it finds the categorical variables, and then it creates and stores the category and digit pairs for each categorical feature:"
   ]
  },
  {
   "cell_type": "code",
   "execution_count": 29,
   "id": "245c2ad7",
   "metadata": {},
   "outputs": [
    {
     "data": {
      "text/plain": [
       "OrdinalEncoder()"
      ]
     },
     "execution_count": 29,
     "metadata": {},
     "output_type": "execute_result"
    }
   ],
   "source": [
    "ordinal_enc.fit(X_train, Y_train)"
   ]
  },
  {
   "cell_type": "code",
   "execution_count": 30,
   "id": "1185cae5",
   "metadata": {},
   "outputs": [],
   "source": [
    "X_train_enc = ordinal_enc.transform(X_train)\n",
    "X_test_enc = ordinal_enc.transform(X_test)"
   ]
  },
  {
   "cell_type": "code",
   "execution_count": 31,
   "id": "960fce39",
   "metadata": {},
   "outputs": [],
   "source": [
    "from sklearn import linear_model\n",
    "from sklearn.metrics import mean_absolute_error\n",
    "reg = linear_model.Ridge(alpha = .5)"
   ]
  },
  {
   "cell_type": "code",
   "execution_count": 32,
   "id": "ff1c7133",
   "metadata": {},
   "outputs": [
    {
     "data": {
      "text/plain": [
       "Ridge(alpha=0.5)"
      ]
     },
     "execution_count": 32,
     "metadata": {},
     "output_type": "execute_result"
    }
   ],
   "source": [
    "reg.fit(X_train_enc, Y_train)"
   ]
  },
  {
   "cell_type": "code",
   "execution_count": 33,
   "id": "2a1a6604",
   "metadata": {},
   "outputs": [
    {
     "name": "stdout",
     "output_type": "stream",
     "text": [
      "0.05264922901144409\n"
     ]
    }
   ],
   "source": [
    "print(reg.score(X_test_enc, Y_test))"
   ]
  },
  {
   "cell_type": "code",
   "execution_count": 34,
   "id": "ef4a28d1",
   "metadata": {},
   "outputs": [
    {
     "data": {
      "text/plain": [
       "0.4677428083253124"
      ]
     },
     "execution_count": 34,
     "metadata": {},
     "output_type": "execute_result"
    }
   ],
   "source": [
    "y_pred = reg.predict(X_test_enc)\n",
    "mae = mean_absolute_error(Y_test, y_pred)\n",
    "mae"
   ]
  },
  {
   "cell_type": "code",
   "execution_count": 35,
   "id": "abfa01e5",
   "metadata": {},
   "outputs": [
    {
     "name": "stdout",
     "output_type": "stream",
     "text": [
      "Mean Absolute Error: 0.4677428083253124\n",
      "Mean Squared Error: 0.23366451376289735\n",
      "Root Mean Squared Error: 0.48338857429908016\n"
     ]
    }
   ],
   "source": [
    "# Evaluating Model Performance\n",
    "\n",
    "from sklearn import metrics\n",
    "\n",
    "print('Mean Absolute Error:', metrics.mean_absolute_error(Y_test, y_pred))\n",
    "print('Mean Squared Error:', metrics.mean_squared_error(Y_test, y_pred))\n",
    "print('Root Mean Squared Error:', np.sqrt(metrics.mean_squared_error(Y_test, y_pred)))"
   ]
  },
  {
   "cell_type": "code",
   "execution_count": 36,
   "id": "127de701",
   "metadata": {},
   "outputs": [
    {
     "data": {
      "text/html": [
       "<div>\n",
       "<style scoped>\n",
       "    .dataframe tbody tr th:only-of-type {\n",
       "        vertical-align: middle;\n",
       "    }\n",
       "\n",
       "    .dataframe tbody tr th {\n",
       "        vertical-align: top;\n",
       "    }\n",
       "\n",
       "    .dataframe thead th {\n",
       "        text-align: right;\n",
       "    }\n",
       "</style>\n",
       "<table border=\"1\" class=\"dataframe\">\n",
       "  <thead>\n",
       "    <tr style=\"text-align: right;\">\n",
       "      <th></th>\n",
       "      <th>Lethal</th>\n",
       "    </tr>\n",
       "  </thead>\n",
       "  <tbody>\n",
       "    <tr>\n",
       "      <th>0</th>\n",
       "      <td>0.521170</td>\n",
       "    </tr>\n",
       "    <tr>\n",
       "      <th>1</th>\n",
       "      <td>0.521170</td>\n",
       "    </tr>\n",
       "    <tr>\n",
       "      <th>2</th>\n",
       "      <td>0.764322</td>\n",
       "    </tr>\n",
       "    <tr>\n",
       "      <th>3</th>\n",
       "      <td>0.521170</td>\n",
       "    </tr>\n",
       "    <tr>\n",
       "      <th>4</th>\n",
       "      <td>0.683272</td>\n",
       "    </tr>\n",
       "    <tr>\n",
       "      <th>...</th>\n",
       "      <td>...</td>\n",
       "    </tr>\n",
       "    <tr>\n",
       "      <th>10725</th>\n",
       "      <td>0.683272</td>\n",
       "    </tr>\n",
       "    <tr>\n",
       "      <th>10726</th>\n",
       "      <td>0.521170</td>\n",
       "    </tr>\n",
       "    <tr>\n",
       "      <th>10727</th>\n",
       "      <td>0.764322</td>\n",
       "    </tr>\n",
       "    <tr>\n",
       "      <th>10728</th>\n",
       "      <td>0.521170</td>\n",
       "    </tr>\n",
       "    <tr>\n",
       "      <th>10729</th>\n",
       "      <td>0.764322</td>\n",
       "    </tr>\n",
       "  </tbody>\n",
       "</table>\n",
       "<p>10730 rows × 1 columns</p>\n",
       "</div>"
      ],
      "text/plain": [
       "         Lethal\n",
       "0      0.521170\n",
       "1      0.521170\n",
       "2      0.764322\n",
       "3      0.521170\n",
       "4      0.683272\n",
       "...         ...\n",
       "10725  0.683272\n",
       "10726  0.521170\n",
       "10727  0.764322\n",
       "10728  0.521170\n",
       "10729  0.764322\n",
       "\n",
       "[10730 rows x 1 columns]"
      ]
     },
     "execution_count": 36,
     "metadata": {},
     "output_type": "execute_result"
    }
   ],
   "source": [
    "result_df = pd.DataFrame(data = {'Lethal': y_pred})\n",
    "result_df"
   ]
  },
  {
   "cell_type": "markdown",
   "id": "6382ee35",
   "metadata": {},
   "source": [
    "# Encoding with the mean of the target"
   ]
  },
  {
   "cell_type": "markdown",
   "id": "ae6df205",
   "metadata": {},
   "source": [
    "Mean encoding or target encoding implies replacing the categories with the average target\n",
    "value for that category. For example, if we have a City variable, with the categories\n",
    "of London, Manchester, and Bristol, and we want to predict the default rate; if the default\n",
    "rate for London is 30%, we replace London with 0.3; if the default rate for Manchester is\n",
    "20%, we replace Manchester with 0.2; and so on. The same can be done with a continuous\n",
    "target."
   ]
  },
  {
   "cell_type": "code",
   "execution_count": 37,
   "id": "90a6bb8c",
   "metadata": {},
   "outputs": [],
   "source": [
    "# define x and y\n",
    "feature_cols = ['Attack', 'Lethal']\n",
    "X = csv_df[feature_cols]\n",
    "Y = csv_df.Lethal\n",
    "X = pd.DataFrame(X)\n",
    "Y = pd.DataFrame(Y)\n",
    "# split X and Y into training and test sets\n",
    "from sklearn.model_selection import train_test_split\n",
    "\n",
    "X_train, X_test, Y_train, Y_test = train_test_split(X, Y, test_size = 0.25, stratify = Y, shuffle = True, random_state = 66)"
   ]
  },
  {
   "cell_type": "markdown",
   "id": "9028bcf1",
   "metadata": {},
   "source": [
    "Let's determine the mean target value per category of the Attack variable and then store them in a dictionary:"
   ]
  },
  {
   "cell_type": "code",
   "execution_count": 38,
   "id": "187c057d",
   "metadata": {},
   "outputs": [],
   "source": [
    "ordered_labels = X_train.groupby(['Attack'])['Lethal'].mean().to_dict()"
   ]
  },
  {
   "cell_type": "markdown",
   "id": "3912bd45",
   "metadata": {},
   "source": [
    "We can display the content of the dictionary by executing"
   ]
  },
  {
   "cell_type": "code",
   "execution_count": 39,
   "id": "0462d457",
   "metadata": {},
   "outputs": [
    {
     "name": "stdout",
     "output_type": "stream",
     "text": [
      "{'ArmedAssault': 0.7324117501851395, 'Assassination': 0.6886496186630776, 'Bomb': 0.5334262614998606, 'HostageKidnap': 0.33281972265023113, 'Infrastructure': 0.06654676258992806, 'OtherAttack': 0.3772455089820359, 'UnknownAttack': 0.6802721088435374}\n"
     ]
    }
   ],
   "source": [
    "print(ordered_labels)"
   ]
  },
  {
   "cell_type": "code",
   "execution_count": 40,
   "id": "533435c5",
   "metadata": {},
   "outputs": [],
   "source": [
    "# Let's replace the categories with the mean target value using the dictionary created in step 3 in the train and test sets:\n",
    "X_train['Attack'] = X_train['Attack'].map(ordered_labels)\n",
    "X_test['Attack'] = X_test['Attack'].map(ordered_labels)"
   ]
  },
  {
   "cell_type": "markdown",
   "id": "634581c9",
   "metadata": {},
   "source": [
    "Go ahead and inspect the new values of A7 by executing"
   ]
  },
  {
   "cell_type": "code",
   "execution_count": 41,
   "id": "372e45b8",
   "metadata": {},
   "outputs": [
    {
     "data": {
      "text/plain": [
       "26472    0.680272\n",
       "7334     0.533426\n",
       "24905    0.533426\n",
       "17007    0.732412\n",
       "2361     0.066547\n",
       "Name: Attack, dtype: float64"
      ]
     },
     "execution_count": 41,
     "metadata": {},
     "output_type": "execute_result"
    }
   ],
   "source": [
    "X_train['Attack'].head()"
   ]
  },
  {
   "cell_type": "markdown",
   "id": "7cd5fd0c",
   "metadata": {},
   "source": [
    "Now, let's perform target encoding with Feature-engine. First, let's load and divide the dataset into train and test sets:"
   ]
  },
  {
   "cell_type": "code",
   "execution_count": 42,
   "id": "77a249bf",
   "metadata": {},
   "outputs": [],
   "source": [
    "X_train, X_test, Y_train, Y_test = train_test_split(X.drop(labels = ['Lethal'], axis = 1), X['Lethal'], test_size = 0.3, random_state = 0)"
   ]
  },
  {
   "cell_type": "markdown",
   "id": "7f28e526",
   "metadata": {},
   "source": [
    "Let's now create a target mean encoder to encode all categorical variables:"
   ]
  },
  {
   "cell_type": "code",
   "execution_count": 43,
   "id": "d81c9c17",
   "metadata": {},
   "outputs": [],
   "source": [
    "from feature_engine.encoding import MeanEncoder\n",
    "mean_enc = MeanEncoder(variables = None)"
   ]
  },
  {
   "cell_type": "code",
   "execution_count": 44,
   "id": "2c275f18",
   "metadata": {},
   "outputs": [],
   "source": [
    "X_train, X_test, Y_train, Y_test = train_test_split(X, X['Lethal'], test_size = 0.3, random_state = 0)"
   ]
  },
  {
   "cell_type": "markdown",
   "id": "4853a056",
   "metadata": {},
   "source": [
    "Note that, to encode with integers based on the target with pandas, we need to keep the target in the X_train and X_test datasets. Let's determine the mean target value per category of the A7 variable and then store them in a dictionary:"
   ]
  },
  {
   "cell_type": "code",
   "execution_count": 45,
   "id": "6a88b62a",
   "metadata": {},
   "outputs": [],
   "source": [
    "ordered_labels = X_train.groupby(['Attack'])['Lethal'].mean().to_dict()"
   ]
  },
  {
   "cell_type": "markdown",
   "id": "a7f509fe",
   "metadata": {},
   "source": [
    "We can display the content of the dictionary by executing:"
   ]
  },
  {
   "cell_type": "code",
   "execution_count": 46,
   "id": "bf331dd4",
   "metadata": {},
   "outputs": [
    {
     "name": "stdout",
     "output_type": "stream",
     "text": [
      "{'ArmedAssault': 0.726332537788385, 'Assassination': 0.6938095238095238, 'Bomb': 0.5340351716712526, 'HostageKidnap': 0.34929810074318746, 'Infrastructure': 0.07156673114119923, 'OtherAttack': 0.3860759493670886, 'UnknownAttack': 0.661319073083779}\n"
     ]
    }
   ],
   "source": [
    "print(ordered_labels)"
   ]
  },
  {
   "cell_type": "markdown",
   "id": "8cfc0d10",
   "metadata": {},
   "source": [
    "Let's replace the categories with the mean target value using the dictionary created in step 3 in the train and test sets:"
   ]
  },
  {
   "cell_type": "code",
   "execution_count": 47,
   "id": "feb6b42e",
   "metadata": {},
   "outputs": [],
   "source": [
    "X_train['Attack'] = X_train['Attack'].map(ordered_labels)\n",
    "X_test['Attack'] = X_test['Attack'].map(ordered_labels)"
   ]
  },
  {
   "cell_type": "markdown",
   "id": "78d32deb",
   "metadata": {},
   "source": [
    "Go ahead and inspect the new values of A7 by executing"
   ]
  },
  {
   "cell_type": "code",
   "execution_count": 48,
   "id": "e935f499",
   "metadata": {},
   "outputs": [
    {
     "data": {
      "text/plain": [
       "29412    0.534035\n",
       "24072    0.534035\n",
       "32053    0.534035\n",
       "10330    0.534035\n",
       "13313    0.534035\n",
       "Name: Attack, dtype: float64"
      ]
     },
     "execution_count": 48,
     "metadata": {},
     "output_type": "execute_result"
    }
   ],
   "source": [
    "X_train['Attack'].head()"
   ]
  },
  {
   "cell_type": "markdown",
   "id": "0b89e29c",
   "metadata": {},
   "source": [
    "Now, let's perform target encoding with Feature-engine. First, let's load and divide the dataset into train and test sets:"
   ]
  },
  {
   "cell_type": "code",
   "execution_count": 49,
   "id": "eff5468a",
   "metadata": {},
   "outputs": [],
   "source": [
    "X_train, X_test, Y_train, Y_test = train_test_split(X.drop(labels = ['Lethal'], axis = 1), X['Lethal'],\n",
    " test_size = 0.3, random_state = 0)"
   ]
  },
  {
   "cell_type": "markdown",
   "id": "670c3715",
   "metadata": {},
   "source": [
    "Note that, to encode with integers based on the target with Feature\u0002engine, we don't need to keep the target in the X_train and X_test\n",
    "datasets. Let's now create a target mean encoder to encode all categorical variables:"
   ]
  },
  {
   "cell_type": "code",
   "execution_count": 50,
   "id": "cb75d914",
   "metadata": {},
   "outputs": [],
   "source": [
    "mean_enc = MeanEncoder(variables = None)"
   ]
  },
  {
   "cell_type": "markdown",
   "id": "ccc14957",
   "metadata": {},
   "source": [
    "MeanEncoder() will find and encode all categorical variables by default. Alternatively, we can indicate the variables to encode\n",
    "passing their names in a list to the variables argument.Let's fit the transformer to the train set so that it learns and stores the mean target value per category per variable:"
   ]
  },
  {
   "cell_type": "code",
   "execution_count": 51,
   "id": "1e67d9ac",
   "metadata": {},
   "outputs": [
    {
     "data": {
      "text/plain": [
       "MeanEncoder()"
      ]
     },
     "execution_count": 51,
     "metadata": {},
     "output_type": "execute_result"
    }
   ],
   "source": [
    "mean_enc.fit(X_train, Y_train)"
   ]
  },
  {
   "cell_type": "code",
   "execution_count": 52,
   "id": "eb9fa533",
   "metadata": {},
   "outputs": [
    {
     "data": {
      "text/plain": [
       "{'Attack': {'ArmedAssault': 0.726332537788385,\n",
       "  'Assassination': 0.6938095238095238,\n",
       "  'Bomb': 0.5340351716712526,\n",
       "  'HostageKidnap': 0.34929810074318746,\n",
       "  'Infrastructure': 0.07156673114119923,\n",
       "  'OtherAttack': 0.3860759493670886,\n",
       "  'UnknownAttack': 0.661319073083779}}"
      ]
     },
     "execution_count": 52,
     "metadata": {},
     "output_type": "execute_result"
    }
   ],
   "source": [
    "# Finally, let's encode the train and test sets:\n",
    "X_train_enc = mean_enc.transform(X_train)\n",
    "X_test_enc = mean_enc.transform(X_test)\n",
    "# The category-to-number pairs are stored as a dictionary of dictionaries in the encoder_dict_ attribute. \n",
    "# To display the stored parameters,execute \n",
    "mean_enc.encoder_dict_"
   ]
  },
  {
   "cell_type": "markdown",
   "id": "e63ddb7c",
   "metadata": {},
   "source": [
    "# Encoding with the Weight of Evidence"
   ]
  },
  {
   "cell_type": "code",
   "execution_count": 53,
   "id": "7884dc53",
   "metadata": {},
   "outputs": [],
   "source": [
    "from feature_engine.encoding import WoEEncoder"
   ]
  },
  {
   "cell_type": "code",
   "execution_count": 54,
   "id": "32ce2b83",
   "metadata": {},
   "outputs": [],
   "source": [
    "X_train, X_test, Y_train, Y_test = train_test_split(X, Y, test_size = 0.25, stratify = Y, shuffle = True, random_state = 66)"
   ]
  },
  {
   "cell_type": "markdown",
   "id": "d896ce68",
   "metadata": {},
   "source": [
    "Let's create a pandas Series with the probability of the target being 1, that is, p(1), for each category in Attack:"
   ]
  },
  {
   "cell_type": "code",
   "execution_count": 55,
   "id": "0c574d25",
   "metadata": {},
   "outputs": [],
   "source": [
    "p1 = X_train.groupby(['Attack'])['Lethal'].mean()"
   ]
  },
  {
   "cell_type": "markdown",
   "id": "e4859a3b",
   "metadata": {},
   "source": [
    "Let's create a pandas Series with the probability of the target being 0, that is, p(0), for each category in Attack:"
   ]
  },
  {
   "cell_type": "code",
   "execution_count": 56,
   "id": "7a155b94",
   "metadata": {},
   "outputs": [],
   "source": [
    "p0 = 1 - p1"
   ]
  },
  {
   "cell_type": "markdown",
   "id": "015e98b4",
   "metadata": {},
   "source": [
    "By definition, the probability of the target being 1 plus the probability of the target being 0 is 1. Now, let's create a dictionary with the WoE per category:"
   ]
  },
  {
   "cell_type": "code",
   "execution_count": 57,
   "id": "c1812fcc",
   "metadata": {},
   "outputs": [],
   "source": [
    "woe = dict(np.log(p1 / p0))"
   ]
  },
  {
   "cell_type": "markdown",
   "id": "87f55221",
   "metadata": {},
   "source": [
    "We can display the dictionary with the category to WoE pairs executing"
   ]
  },
  {
   "cell_type": "code",
   "execution_count": 58,
   "id": "b29070a8",
   "metadata": {},
   "outputs": [
    {
     "name": "stdout",
     "output_type": "stream",
     "text": [
      "{'ArmedAssault': 1.0068934382912302, 'Assassination': 0.793813699514493, 'Bomb': 0.13390476937346313, 'HostageKidnap': -0.6954593203183247, 'Infrastructure': -2.640985970521664, 'OtherAttack': -0.50125617274984, 'UnknownAttack': 0.7550225842780328}\n"
     ]
    }
   ],
   "source": [
    "print(woe)"
   ]
  },
  {
   "cell_type": "markdown",
   "id": "ebfea7a4",
   "metadata": {},
   "source": [
    "Finally, let's replace the categories of A1 by the WoE:"
   ]
  },
  {
   "cell_type": "code",
   "execution_count": 59,
   "id": "6d778bdc",
   "metadata": {},
   "outputs": [],
   "source": [
    "X_train['Attack'] = X_train['Attack'].map(woe)\n",
    "X_test['Attack'] = X_test['Attack'].map(woe)"
   ]
  },
  {
   "cell_type": "markdown",
   "id": "9a269ff0",
   "metadata": {},
   "source": [
    "Now, let's perform WoE encoding using Feature-engine. First, let's load and divide the dataset into train and test sets:"
   ]
  },
  {
   "cell_type": "code",
   "execution_count": 60,
   "id": "659d0d24",
   "metadata": {},
   "outputs": [],
   "source": [
    "X_train, X_test, Y_train, Y_test = train_test_split(X.drop(labels = ['Lethal'], axis = 1), X['Lethal'], test_size = 0.3, random_state = 0)"
   ]
  },
  {
   "cell_type": "markdown",
   "id": "99b299bf",
   "metadata": {},
   "source": [
    "Next, let's create a WoE encoder to encode the categorical variable Attack"
   ]
  },
  {
   "cell_type": "code",
   "execution_count": 61,
   "id": "2ef16670",
   "metadata": {},
   "outputs": [],
   "source": [
    "woe_enc = WoEEncoder(variables = ['Attack'])"
   ]
  },
  {
   "cell_type": "markdown",
   "id": "bebe9193",
   "metadata": {},
   "source": [
    "Let's fit the transformer to the train set so that it learns and stores the WoE of the different categories:"
   ]
  },
  {
   "cell_type": "code",
   "execution_count": 62,
   "id": "86837c51",
   "metadata": {},
   "outputs": [
    {
     "data": {
      "text/plain": [
       "WoEEncoder(variables=['Attack'])"
      ]
     },
     "execution_count": 62,
     "metadata": {},
     "output_type": "execute_result"
    }
   ],
   "source": [
    "woe_enc.fit(X_train, Y_train)"
   ]
  },
  {
   "cell_type": "markdown",
   "id": "f6601bf5",
   "metadata": {},
   "source": [
    "Finally, let's encode the three categorical variables in the train and test sets:"
   ]
  },
  {
   "cell_type": "code",
   "execution_count": 63,
   "id": "3863ca11",
   "metadata": {},
   "outputs": [],
   "source": [
    "X_train_enc = woe_enc.transform(X_train)\n",
    "X_test_enc = woe_enc.transform(X_test)"
   ]
  },
  {
   "cell_type": "markdown",
   "id": "ad567f9f",
   "metadata": {},
   "source": [
    "# Transforming a Numerical Variable"
   ]
  },
  {
   "cell_type": "code",
   "execution_count": 64,
   "id": "9d945d05",
   "metadata": {},
   "outputs": [],
   "source": [
    "import numpy as np\n",
    "import pandas as pd\n",
    "import matplotlib.pyplot as plt\n",
    "import scipy.stats as stats\n",
    "from sklearn.datasets import load_boston\n",
    "from sklearn.preprocessing import FunctionTransformer\n",
    "from feature_engine import transformation as vt"
   ]
  },
  {
   "cell_type": "code",
   "execution_count": 65,
   "id": "21829b27",
   "metadata": {},
   "outputs": [
    {
     "name": "stderr",
     "output_type": "stream",
     "text": [
      "C:\\Users\\Nicholas\\anaconda3\\envs\\Fatalities_Prediction\\lib\\site-packages\\sklearn\\utils\\deprecation.py:87: FutureWarning: Function load_boston is deprecated; `load_boston` is deprecated in 1.0 and will be removed in 1.2.\n",
      "\n",
      "    The Boston housing prices dataset has an ethical problem. You can refer to\n",
      "    the documentation of this function for further details.\n",
      "\n",
      "    The scikit-learn maintainers therefore strongly discourage the use of this\n",
      "    dataset unless the purpose of the code is to study and educate about\n",
      "    ethical issues in data science and machine learning.\n",
      "\n",
      "    In this special case, you can fetch the dataset from the original\n",
      "    source::\n",
      "\n",
      "        import pandas as pd\n",
      "        import numpy as np\n",
      "\n",
      "\n",
      "        data_url = \"http://lib.stat.cmu.edu/datasets/boston\"\n",
      "        raw_df = pd.read_csv(data_url, sep=\"\\s+\", skiprows=22, header=None)\n",
      "        data = np.hstack([raw_df.values[::2, :], raw_df.values[1::2, :2]])\n",
      "        target = raw_df.values[1::2, 2]\n",
      "\n",
      "    Alternative datasets include the California housing dataset (i.e.\n",
      "    :func:`~sklearn.datasets.fetch_california_housing`) and the Ames housing\n",
      "    dataset. You can load the datasets as follows::\n",
      "\n",
      "        from sklearn.datasets import fetch_california_housing\n",
      "        housing = fetch_california_housing()\n",
      "\n",
      "    for the California housing dataset and::\n",
      "\n",
      "        from sklearn.datasets import fetch_openml\n",
      "        housing = fetch_openml(name=\"house_prices\", as_frame=True)\n",
      "\n",
      "    for the Ames housing dataset.\n",
      "    \n",
      "  warnings.warn(msg, category=FutureWarning)\n"
     ]
    }
   ],
   "source": [
    "boston_dataset = load_boston()\n",
    "data = pd.DataFrame(boston_dataset.data,\n",
    "columns = boston_dataset.feature_names)\n",
    "import csv\n",
    "data.to_csv('Boston.csv') "
   ]
  },
  {
   "cell_type": "code",
   "execution_count": 66,
   "id": "12914615",
   "metadata": {},
   "outputs": [
    {
     "name": "stdout",
     "output_type": "stream",
     "text": [
      "<class 'pandas.core.frame.DataFrame'>\n",
      "RangeIndex: 506 entries, 0 to 505\n",
      "Data columns (total 13 columns):\n",
      " #   Column   Non-Null Count  Dtype  \n",
      "---  ------   --------------  -----  \n",
      " 0   CRIM     506 non-null    float64\n",
      " 1   ZN       506 non-null    float64\n",
      " 2   INDUS    506 non-null    float64\n",
      " 3   CHAS     506 non-null    float64\n",
      " 4   NOX      506 non-null    float64\n",
      " 5   RM       506 non-null    float64\n",
      " 6   AGE      506 non-null    float64\n",
      " 7   DIS      506 non-null    float64\n",
      " 8   RAD      506 non-null    float64\n",
      " 9   TAX      506 non-null    float64\n",
      " 10  PTRATIO  506 non-null    float64\n",
      " 11  B        506 non-null    float64\n",
      " 12  LSTAT    506 non-null    float64\n",
      "dtypes: float64(13)\n",
      "memory usage: 51.5 KB\n"
     ]
    }
   ],
   "source": [
    "data.info()"
   ]
  },
  {
   "cell_type": "markdown",
   "id": "0017e0f8",
   "metadata": {},
   "source": [
    "To evaluate the effect of the transformation on the variable distribution, we'll\n",
    "create a function that takes a dataframe and a variable name as inputs and plots a\n",
    "histogram next to a Q-Q plot:"
   ]
  },
  {
   "cell_type": "code",
   "execution_count": 67,
   "id": "a1930eeb",
   "metadata": {},
   "outputs": [],
   "source": [
    "def diagnostic_plots(df, variable):\n",
    "    plt.figure(figsize=(15,6))\n",
    "    plt.subplot(1, 2, 1)\n",
    "    df[variable].hist(bins=30)\n",
    "    plt.subplot(1, 2, 2)\n",
    "    stats.probplot(df[variable], dist=\"norm\", plot=plt)\n",
    "    plt.show()"
   ]
  },
  {
   "cell_type": "markdown",
   "id": "2f39ca80",
   "metadata": {},
   "source": [
    "Now, let's plot the distribution of the LSTAT variable. The following output shows that LSTAT is not normally distributed:"
   ]
  },
  {
   "cell_type": "code",
   "execution_count": 68,
   "id": "23bf5870",
   "metadata": {},
   "outputs": [
    {
     "data": {
      "image/png": "[encoded data removed]",
      "text/plain": [
       "<Figure size 1080x432 with 2 Axes>"
      ]
     },
     "metadata": {
      "needs_background": "light"
     },
     "output_type": "display_data"
    }
   ],
   "source": [
    "diagnostic_plots(data, 'LSTAT')"
   ]
  },
  {
   "cell_type": "markdown",
   "id": "29b04e61",
   "metadata": {},
   "source": [
    "Now, let's transform the data with the logarithm. First, let's make a copy of the original dataframe using pandas copy():"
   ]
  },
  {
   "cell_type": "code",
   "execution_count": 69,
   "id": "20eb5289",
   "metadata": {},
   "outputs": [],
   "source": [
    "Boston_tf = Boston.copy()"
   ]
  },
  {
   "cell_type": "markdown",
   "id": "5c5da18b",
   "metadata": {},
   "source": [
    "We've created a copy so that we can modify the values in the copy and not in the \n",
    "original dataframe, which we need for the rest of the code.\n",
    "If we execute Boston_tf = Boston instead of using pandas copy(),\n",
    "Boston_tf will not be a copy of the dataframe; instead, it will be another\n",
    "view of the same data. Therefore, changes that are made in Boston_tf will\n",
    "be reflected in data as well."
   ]
  },
  {
   "cell_type": "markdown",
   "id": "d15efa8a",
   "metadata": {},
   "source": [
    "Let's apply the logarithmic transformation with NumPy to a subset of positive\n",
    "variables to capture the transformed variables in the new dataframe:"
   ]
  },
  {
   "cell_type": "code",
   "execution_count": 70,
   "id": "5d68c281",
   "metadata": {},
   "outputs": [],
   "source": [
    "Boston_tf[['LSTAT', 'NOX', 'DIS', 'RM']] = np.log(Boston[['LSTAT',\n",
    "'NOX', 'DIS', 'RM']])"
   ]
  },
  {
   "cell_type": "markdown",
   "id": "7e011179",
   "metadata": {},
   "source": [
    "Let's check the distribution of LSTAT after the transformation with the diagnostic\n",
    "function we created earlier. We can see the effect of the transformation in the following output:"
   ]
  },
  {
   "cell_type": "code",
   "execution_count": 71,
   "id": "2fc5fd19",
   "metadata": {},
   "outputs": [
    {
     "data": {
      "image/png": "[encoded data removed]",
      "text/plain": [
       "<Figure size 1080x432 with 2 Axes>"
      ]
     },
     "metadata": {
      "needs_background": "light"
     },
     "output_type": "display_data"
    }
   ],
   "source": [
    "diagnostic_plots(Boston_tf, 'LSTAT')"
   ]
  },
  {
   "cell_type": "markdown",
   "id": "2305bed3",
   "metadata": {},
   "source": [
    "Now, let's apply the logarithmic transformation with scikit-learn."
   ]
  },
  {
   "cell_type": "code",
   "execution_count": 72,
   "id": "4d391493",
   "metadata": {},
   "outputs": [],
   "source": [
    "transformer = FunctionTransformer(np.log)"
   ]
  },
  {
   "cell_type": "markdown",
   "id": "c1c56861",
   "metadata": {},
   "source": [
    "FunctionTransformer() doesn't need to be fit before transforming the\n",
    "data since there are no parameters to be learned from the train set."
   ]
  },
  {
   "cell_type": "markdown",
   "id": "ec682d74",
   "metadata": {},
   "source": [
    "Let's transform a subset of positive variables:"
   ]
  },
  {
   "cell_type": "code",
   "execution_count": 73,
   "id": "04a4c1e4",
   "metadata": {},
   "outputs": [],
   "source": [
    "Boston_tf = transformer.transform(Boston[['LSTAT', 'NOX', 'DIS', 'RM']])"
   ]
  },
  {
   "cell_type": "markdown",
   "id": "4374ecd9",
   "metadata": {},
   "source": [
    "Note that Boston_tf is a NumPy array with only the transformed variables."
   ]
  },
  {
   "cell_type": "markdown",
   "id": "ba57593a",
   "metadata": {},
   "source": [
    "We can transform the NumPy array into a pandas dataframe by executing\n",
    "Boston_tf = pd.DataFrame(Boston_tf, columns = ['LSTAT',\n",
    "'NOX', 'DIS', 'RM']) and then check that the transformation was\n",
    "successful with the diagnostic function created earlier. Now, let's do logarithm transformation with Feature-engine. Let's create a transformer using LogTransformer() and fit it to the dataset: "
   ]
  },
  {
   "cell_type": "code",
   "execution_count": 74,
   "id": "09f9b8c7",
   "metadata": {},
   "outputs": [
    {
     "data": {
      "text/plain": [
       "LogTransformer(variables=['LSTAT', 'NOX', 'DIS', 'RM'])"
      ]
     },
     "execution_count": 74,
     "metadata": {},
     "output_type": "execute_result"
    }
   ],
   "source": [
    "lt = vt.LogTransformer(variables = ['LSTAT', 'NOX', 'DIS', 'RM'])\n",
    "lt.fit(Boston)"
   ]
  },
  {
   "cell_type": "markdown",
   "id": "279671b1",
   "metadata": {},
   "source": [
    "If the variables argument is left as None, LogTransformer() identifies\n",
    "and applies the logarithm to all the numerical variables in the dataset.\n",
    "Alternatively, we can indicate which variables we want to transform, just\n",
    "like we did in a previous step."
   ]
  },
  {
   "cell_type": "markdown",
   "id": "e5879d19",
   "metadata": {},
   "source": [
    "Finally, let's transform the data:"
   ]
  },
  {
   "cell_type": "code",
   "execution_count": 75,
   "id": "25df6883",
   "metadata": {},
   "outputs": [],
   "source": [
    "Boston_tf = lt.transform(Boston)"
   ]
  },
  {
   "cell_type": "markdown",
   "id": "46a23ac9",
   "metadata": {},
   "source": [
    "The transformer will only transform the variables indicated previously. Note that Boston_tf is\n",
    "a pandas dataframe that contains all of the original variables, where only the LSTAT, NOX,\n",
    "DIS, and RM variables were transformed by the logarithm."
   ]
  },
  {
   "cell_type": "markdown",
   "id": "19a6cbb7",
   "metadata": {},
   "source": [
    "# Transforming variables with the reciprocal function"
   ]
  },
  {
   "cell_type": "code",
   "execution_count": 76,
   "id": "8119f695",
   "metadata": {},
   "outputs": [],
   "source": [
    "import numpy as np\n",
    "import pandas as pd\n",
    "import matplotlib.pyplot as plt\n",
    "import scipy.stats as stats\n",
    "from sklearn.datasets import load_boston\n",
    "from sklearn.preprocessing import FunctionTransformer\n",
    "from feature_engine import transformation as vt"
   ]
  },
  {
   "cell_type": "markdown",
   "id": "288c9dbe",
   "metadata": {},
   "source": [
    "To evaluate the effect of the transformation on the variable distribution, we'll\n",
    "create a function that takes a dataframe and a variable name as inputs and plots a\n",
    "histogram next to a Q-Q plot:"
   ]
  },
  {
   "cell_type": "code",
   "execution_count": 77,
   "id": "ac83b421",
   "metadata": {},
   "outputs": [],
   "source": [
    "def diagnostic_plots(df, variable):\n",
    "    plt.figure(figsize = (15,6))\n",
    "    plt.subplot(1, 2, 1)\n",
    "    df[variable].hist(bins = 30)\n",
    "    plt.subplot(1, 2, 2)\n",
    "    stats.probplot(df[variable], dist = \"norm\", plot = plt)\n",
    "    plt.show()"
   ]
  },
  {
   "cell_type": "markdown",
   "id": "d0c2e70e",
   "metadata": {},
   "source": [
    "Now, let's plot the distribution of the DIS variable. DIS is not normally distributed, as shown in the following output:"
   ]
  },
  {
   "cell_type": "code",
   "execution_count": 78,
   "id": "636effd6",
   "metadata": {},
   "outputs": [
    {
     "data": {
      "image/png": "[encoded data removed]",
      "text/plain": [
       "<Figure size 1080x432 with 2 Axes>"
      ]
     },
     "metadata": {
      "needs_background": "light"
     },
     "output_type": "display_data"
    }
   ],
   "source": [
    "diagnostic_plots(data, 'DIS')"
   ]
  },
  {
   "cell_type": "markdown",
   "id": "a0ecd45a",
   "metadata": {},
   "source": [
    "Now, let's apply the reciprocal transformation with NumPy.  First, let's make a copy of the original dataframe using pandas copy() so that we\n",
    "can modify the values in the copy and not in the original dataframe, which we \n",
    "need for the rest of this recipe:\n"
   ]
  },
  {
   "cell_type": "code",
   "execution_count": 79,
   "id": "0d55496b",
   "metadata": {},
   "outputs": [],
   "source": [
    "Boston_tf = Boston.copy()"
   ]
  },
  {
   "cell_type": "markdown",
   "id": "341c5b9f",
   "metadata": {},
   "source": [
    "Remember that executing Boston_tf = data, instead of using pandas\n",
    "copy(), creates an additional view of the same data. Therefore, changes\n",
    "that are made in Boston_tf will be reflected in the data as well."
   ]
  },
  {
   "cell_type": "markdown",
   "id": "72cf14da",
   "metadata": {},
   "source": [
    "Using NumPy, we'll apply the reciprocal transformation to a group of variables:"
   ]
  },
  {
   "cell_type": "code",
   "execution_count": 91,
   "id": "d4fdc361",
   "metadata": {},
   "outputs": [],
   "source": [
    "Boston_tf[['LSTAT', 'NOX', 'DIS', 'RM']] = np.reciprocal(Boston[['LSTAT', 'NOX', 'DIS', 'RM']])"
   ]
  },
  {
   "cell_type": "markdown",
   "id": "748b520f",
   "metadata": {},
   "source": [
    "Let's check the distribution of the DIS variable after the transformation with the\n",
    "diagnostic function we created earlier. The transformed DIS distribution can be seen in the plots that are returned by the\n",
    "following code block:"
   ]
  },
  {
   "cell_type": "code",
   "execution_count": 92,
   "id": "0ed5541b",
   "metadata": {},
   "outputs": [
    {
     "data": {
      "image/png": "[encoded data removed]",
      "text/plain": [
       "<Figure size 1080x432 with 2 Axes>"
      ]
     },
     "metadata": {
      "needs_background": "light"
     },
     "output_type": "display_data"
    }
   ],
   "source": [
    "diagnostic_plots(Boston_tf, 'DIS')"
   ]
  },
  {
   "cell_type": "markdown",
   "id": "91196c17",
   "metadata": {},
   "source": [
    "Now, let's apply reciprocal transformation with scikit-learn. Let's create a transformer using FunctionTransformer() by passing\n",
    "np.reciprocal as an argument:"
   ]
  },
  {
   "cell_type": "code",
   "execution_count": 82,
   "id": "66b2588d",
   "metadata": {},
   "outputs": [],
   "source": [
    "transformer = FunctionTransformer(np.reciprocal)"
   ]
  },
  {
   "cell_type": "markdown",
   "id": "0bc983fd",
   "metadata": {},
   "source": [
    "FunctionTransformer() doesn't need to be fit before transforming the data since there are no parameters to be learned from the train set. Now, let's transform a group of variables from the dataset:"
   ]
  },
  {
   "cell_type": "code",
   "execution_count": 83,
   "id": "c79aa0f2",
   "metadata": {},
   "outputs": [],
   "source": [
    "Boston_tf = transformer.transform(Boston[['LSTAT', 'NOX', 'DIS', 'RM']])"
   ]
  },
  {
   "cell_type": "markdown",
   "id": "1c466bfb",
   "metadata": {},
   "source": [
    "Note that Boston_tf is a NumPy array with only the transformed variables. If we want to retain the original variables in the final output, we can\n",
    "create a copy of the original dataframe, like we did in an earlier step, and then\n",
    "execute Boston_tf[['LSTAT', 'NOX', 'DIS', 'RM']] =\n",
    "transformer.transform(Boston[['LSTAT', 'NOX', 'DIS',\n",
    "'RM']]). Now, let's apply the reciprocal transformation with Feature-engine.\n",
    "Here, we'll call ReciprocalTransformer(), indicate the variables to transform,\n",
    "and then fit it to the dataset:"
   ]
  },
  {
   "cell_type": "code",
   "execution_count": 84,
   "id": "411b1c73",
   "metadata": {},
   "outputs": [
    {
     "data": {
      "text/plain": [
       "ReciprocalTransformer(variables=['LSTAT', 'NOX', 'DIS', 'RM'])"
      ]
     },
     "execution_count": 84,
     "metadata": {},
     "output_type": "execute_result"
    }
   ],
   "source": [
    "rt = vt.ReciprocalTransformer(variables = ['LSTAT', 'NOX', 'DIS', 'RM'])\n",
    "rt.fit(Boston)"
   ]
  },
  {
   "cell_type": "markdown",
   "id": "b9a02b35",
   "metadata": {},
   "source": [
    "If the variables argument is None, the transformer identifies and applies\n",
    "the reciprocal function to all the numerical variables in the dataset. If\n",
    "some of the variables contain the value zero, this will return an error. Let's transform the selected variables in our dataset:"
   ]
  },
  {
   "cell_type": "code",
   "execution_count": 85,
   "id": "14bbc712",
   "metadata": {},
   "outputs": [],
   "source": [
    "Boston_tf = rt.transform(Boston)"
   ]
  },
  {
   "cell_type": "markdown",
   "id": "c0be12aa",
   "metadata": {},
   "source": [
    "ReciprocalTransformer() will return a pandas dataframe with the original variables,\n",
    "where the variables indicated are transformed with the reciprocal function."
   ]
  },
  {
   "cell_type": "markdown",
   "id": "79b6a3bb",
   "metadata": {},
   "source": [
    "# Using square and cube root to transform variables"
   ]
  },
  {
   "cell_type": "code",
   "execution_count": null,
   "id": "04996566",
   "metadata": {},
   "outputs": [],
   "source": [
    "import numpy as np\n",
    "import pandas as pd\n",
    "from sklearn.datasets import load_boston\n",
    "from sklearn.preprocessing import FunctionTransformer"
   ]
  },
  {
   "cell_type": "code",
   "execution_count": 104,
   "id": "5f710031",
   "metadata": {},
   "outputs": [
    {
     "data": {
      "text/html": [
       "<div>\n",
       "<style scoped>\n",
       "    .dataframe tbody tr th:only-of-type {\n",
       "        vertical-align: middle;\n",
       "    }\n",
       "\n",
       "    .dataframe tbody tr th {\n",
       "        vertical-align: top;\n",
       "    }\n",
       "\n",
       "    .dataframe thead th {\n",
       "        text-align: right;\n",
       "    }\n",
       "</style>\n",
       "<table border=\"1\" class=\"dataframe\">\n",
       "  <thead>\n",
       "    <tr style=\"text-align: right;\">\n",
       "      <th></th>\n",
       "      <th>CRIM</th>\n",
       "      <th>ZN</th>\n",
       "      <th>INDUS</th>\n",
       "      <th>CHAS</th>\n",
       "      <th>NOX</th>\n",
       "      <th>RM</th>\n",
       "      <th>AGE</th>\n",
       "      <th>DIS</th>\n",
       "      <th>RAD</th>\n",
       "      <th>TAX</th>\n",
       "      <th>PTRATIO</th>\n",
       "      <th>B</th>\n",
       "      <th>LSTAT</th>\n",
       "    </tr>\n",
       "  </thead>\n",
       "  <tbody>\n",
       "    <tr>\n",
       "      <th>0</th>\n",
       "      <td>0.00632</td>\n",
       "      <td>18.0</td>\n",
       "      <td>2.31</td>\n",
       "      <td>0</td>\n",
       "      <td>0.538</td>\n",
       "      <td>6.575</td>\n",
       "      <td>65.2</td>\n",
       "      <td>4.0900</td>\n",
       "      <td>1</td>\n",
       "      <td>296</td>\n",
       "      <td>15.3</td>\n",
       "      <td>396.90</td>\n",
       "      <td>4.98</td>\n",
       "    </tr>\n",
       "    <tr>\n",
       "      <th>1</th>\n",
       "      <td>0.02731</td>\n",
       "      <td>0.0</td>\n",
       "      <td>7.07</td>\n",
       "      <td>0</td>\n",
       "      <td>0.469</td>\n",
       "      <td>6.421</td>\n",
       "      <td>78.9</td>\n",
       "      <td>4.9671</td>\n",
       "      <td>2</td>\n",
       "      <td>242</td>\n",
       "      <td>17.8</td>\n",
       "      <td>396.90</td>\n",
       "      <td>9.14</td>\n",
       "    </tr>\n",
       "    <tr>\n",
       "      <th>2</th>\n",
       "      <td>0.02729</td>\n",
       "      <td>0.0</td>\n",
       "      <td>7.07</td>\n",
       "      <td>0</td>\n",
       "      <td>0.469</td>\n",
       "      <td>7.185</td>\n",
       "      <td>61.1</td>\n",
       "      <td>4.9671</td>\n",
       "      <td>2</td>\n",
       "      <td>242</td>\n",
       "      <td>17.8</td>\n",
       "      <td>392.83</td>\n",
       "      <td>4.03</td>\n",
       "    </tr>\n",
       "    <tr>\n",
       "      <th>3</th>\n",
       "      <td>0.03237</td>\n",
       "      <td>0.0</td>\n",
       "      <td>2.18</td>\n",
       "      <td>0</td>\n",
       "      <td>0.458</td>\n",
       "      <td>6.998</td>\n",
       "      <td>45.8</td>\n",
       "      <td>6.0622</td>\n",
       "      <td>3</td>\n",
       "      <td>222</td>\n",
       "      <td>18.7</td>\n",
       "      <td>394.63</td>\n",
       "      <td>2.94</td>\n",
       "    </tr>\n",
       "    <tr>\n",
       "      <th>4</th>\n",
       "      <td>0.06905</td>\n",
       "      <td>0.0</td>\n",
       "      <td>2.18</td>\n",
       "      <td>0</td>\n",
       "      <td>0.458</td>\n",
       "      <td>7.147</td>\n",
       "      <td>54.2</td>\n",
       "      <td>6.0622</td>\n",
       "      <td>3</td>\n",
       "      <td>222</td>\n",
       "      <td>18.7</td>\n",
       "      <td>396.90</td>\n",
       "      <td>5.33</td>\n",
       "    </tr>\n",
       "  </tbody>\n",
       "</table>\n",
       "</div>"
      ],
      "text/plain": [
       "      CRIM    ZN  INDUS  CHAS    NOX     RM   AGE     DIS  RAD  TAX  PTRATIO  \\\n",
       "0  0.00632  18.0   2.31     0  0.538  6.575  65.2  4.0900    1  296     15.3   \n",
       "1  0.02731   0.0   7.07     0  0.469  6.421  78.9  4.9671    2  242     17.8   \n",
       "2  0.02729   0.0   7.07     0  0.469  7.185  61.1  4.9671    2  242     17.8   \n",
       "3  0.03237   0.0   2.18     0  0.458  6.998  45.8  6.0622    3  222     18.7   \n",
       "4  0.06905   0.0   2.18     0  0.458  7.147  54.2  6.0622    3  222     18.7   \n",
       "\n",
       "        B  LSTAT  \n",
       "0  396.90   4.98  \n",
       "1  396.90   9.14  \n",
       "2  392.83   4.03  \n",
       "3  394.63   2.94  \n",
       "4  396.90   5.33  "
      ]
     },
     "execution_count": 104,
     "metadata": {},
     "output_type": "execute_result"
    }
   ],
   "source": [
    "# Load Boston Data Set\n",
    "Boston = pd.read_csv('C:/Python_Data_Sets/Boston.csv')\n",
    "Boston.head()"
   ]
  },
  {
   "cell_type": "code",
   "execution_count": 87,
   "id": "e80a624a",
   "metadata": {},
   "outputs": [],
   "source": [
    "# First, let's make a copy of the original dataframe using pandas copy():\n",
    "Boston_tf = Boston.copy()"
   ]
  },
  {
   "cell_type": "markdown",
   "id": "a3b8fb9d",
   "metadata": {},
   "source": [
    "Let's apply the square root transformation with NumPy to a group of variables and capture it in the new dataframe:"
   ]
  },
  {
   "cell_type": "code",
   "execution_count": 88,
   "id": "4b0a1b4e",
   "metadata": {},
   "outputs": [],
   "source": [
    "Boston_tf[['LSTAT', 'NOX', 'DIS', 'RM']] = np.sqrt(Boston[['LSTAT', 'NOX', 'DIS', 'RM']])"
   ]
  },
  {
   "cell_type": "markdown",
   "id": "7084fab6",
   "metadata": {},
   "source": [
    "If we want to apply the cube root transformation instead, we can do so with NumPy's cbrt(), like so :"
   ]
  },
  {
   "cell_type": "code",
   "execution_count": 124,
   "id": "3006ea99",
   "metadata": {},
   "outputs": [],
   "source": [
    "Boston_tf[['LSTAT', 'NOX', 'DIS', 'RM']] = np.cbrt(Boston[['LSTAT', 'NOX', 'DIS', 'RM']])"
   ]
  },
  {
   "cell_type": "markdown",
   "id": "c67d2ae0",
   "metadata": {},
   "source": [
    "To evaluate the effect of the transformation on the variable distribution, we'll\n",
    "create a function that takes a dataframe and a variable name as inputs and plots a\n",
    "histogram next to a Q-Q plot:"
   ]
  },
  {
   "cell_type": "code",
   "execution_count": 125,
   "id": "b10fef5d",
   "metadata": {},
   "outputs": [
    {
     "data": {
      "image/png": "[encoded data removed]",
      "text/plain": [
       "<Figure size 1080x432 with 2 Axes>"
      ]
     },
     "metadata": {
      "needs_background": "light"
     },
     "output_type": "display_data"
    }
   ],
   "source": [
    "diagnostic_plots(Boston, 'DIS')"
   ]
  },
  {
   "cell_type": "code",
   "execution_count": 126,
   "id": "24299ed7",
   "metadata": {},
   "outputs": [],
   "source": [
    "def diagnostic_plots(df, variable):\n",
    "    plt.figure(figsize = (15,6))\n",
    "    plt.subplot(1, 2, 1)\n",
    "    df[variable].hist(bins = 30)\n",
    "    plt.subplot(1, 2, 2)\n",
    "    stats.probplot(df[variable], dist = \"norm\", plot = plt)\n",
    "    plt.show()"
   ]
  },
  {
   "cell_type": "markdown",
   "id": "fc434ba6",
   "metadata": {},
   "source": [
    "Let's check the distribution of the DIS variable after the transformation with the diagnostic function we created earlier. The transformed DIS distribution can be seen in the plots that are returned by the following code block:"
   ]
  },
  {
   "cell_type": "code",
   "execution_count": 127,
   "id": "88c62484",
   "metadata": {},
   "outputs": [
    {
     "data": {
      "image/png": "[encoded data removed]",
      "text/plain": [
       "<Figure size 1080x432 with 2 Axes>"
      ]
     },
     "metadata": {
      "needs_background": "light"
     },
     "output_type": "display_data"
    }
   ],
   "source": [
    "diagnostic_plots(Boston_tf, 'DIS')"
   ]
  },
  {
   "cell_type": "markdown",
   "id": "ee13bd50",
   "metadata": {},
   "source": [
    "Now, let's apply the square root transformation with scikit-learn. Let's create a transformer by passing NumPy's sqrt() as an argument:"
   ]
  },
  {
   "cell_type": "code",
   "execution_count": 96,
   "id": "54896b24",
   "metadata": {},
   "outputs": [],
   "source": [
    "transformer = FunctionTransformer(np.sqrt)"
   ]
  },
  {
   "cell_type": "markdown",
   "id": "d96b6ddb",
   "metadata": {},
   "source": [
    "If we want to perform the cube root transformation, we need to set up the\n",
    "transformer using transformer = FunctionTransformer(np.cbrt)."
   ]
  },
  {
   "cell_type": "markdown",
   "id": "040b1c8f",
   "metadata": {},
   "source": [
    "Now, let's transform a subset of variables from the dataset:"
   ]
  },
  {
   "cell_type": "code",
   "execution_count": 97,
   "id": "85155071",
   "metadata": {},
   "outputs": [],
   "source": [
    "Boston_tf = transformer.transform(Boston[['LSTAT', 'NOX', 'DIS', 'RM']])"
   ]
  },
  {
   "cell_type": "markdown",
   "id": "b127eee3",
   "metadata": {},
   "source": [
    "To transform the returned NumPy array into a pandas dataframe, we can\n",
    "use the Boston_tf = pd.DataFrame(Boston_tf, columns = [LSTAT',\n",
    "'NOX', 'DIS', 'RM']) command. If we want to capture the transformed variables within the original dataset, we\n",
    "can do so as follows:"
   ]
  },
  {
   "cell_type": "code",
   "execution_count": 99,
   "id": "cc86d46a",
   "metadata": {},
   "outputs": [],
   "source": [
    "Boston_tf = Boston.copy()\n",
    "Boston_tf[['LSTAT', 'NOX', 'DIS', 'RM']] = transformer.transform(Boston[['LSTAT', 'NOX', 'DIS', 'RM']])"
   ]
  },
  {
   "cell_type": "markdown",
   "id": "2ad40136",
   "metadata": {},
   "source": [
    "The preceding code block returns a pandas dataframe with the original variables. However,\n",
    "the LSTAT, NOX, DIS, and RM variables are transformed with the square root."
   ]
  },
  {
   "cell_type": "markdown",
   "id": "e45e61a3",
   "metadata": {},
   "source": [
    "# Using power transformations on numerical variables"
   ]
  },
  {
   "cell_type": "markdown",
   "id": "d66c5c84",
   "metadata": {},
   "source": [
    "Exponential or power functions are mathematical transformations that follow ,\n",
    "where lambda can be any exponent. The square and cube root transformations are special\n",
    "cases of power transformations where lambda is 1/2 or 1/3, respectively. In practice, we try\n",
    "different lambdas to determine which one offers the best transformation. In this example, we\n",
    "will carry out power transformations using NumPy, scikit-learn, and Feature-engine."
   ]
  },
  {
   "cell_type": "code",
   "execution_count": 101,
   "id": "16affa10",
   "metadata": {},
   "outputs": [],
   "source": [
    "import numpy as np\n",
    "import pandas as pd\n",
    "from sklearn.datasets import load_boston\n",
    "from sklearn.preprocessing import FunctionTransformer\n",
    "from feature_engine import transformation as vt"
   ]
  },
  {
   "cell_type": "code",
   "execution_count": 103,
   "id": "9384cb70",
   "metadata": {},
   "outputs": [
    {
     "data": {
      "text/html": [
       "<div>\n",
       "<style scoped>\n",
       "    .dataframe tbody tr th:only-of-type {\n",
       "        vertical-align: middle;\n",
       "    }\n",
       "\n",
       "    .dataframe tbody tr th {\n",
       "        vertical-align: top;\n",
       "    }\n",
       "\n",
       "    .dataframe thead th {\n",
       "        text-align: right;\n",
       "    }\n",
       "</style>\n",
       "<table border=\"1\" class=\"dataframe\">\n",
       "  <thead>\n",
       "    <tr style=\"text-align: right;\">\n",
       "      <th></th>\n",
       "      <th>CRIM</th>\n",
       "      <th>ZN</th>\n",
       "      <th>INDUS</th>\n",
       "      <th>CHAS</th>\n",
       "      <th>NOX</th>\n",
       "      <th>RM</th>\n",
       "      <th>AGE</th>\n",
       "      <th>DIS</th>\n",
       "      <th>RAD</th>\n",
       "      <th>TAX</th>\n",
       "      <th>PTRATIO</th>\n",
       "      <th>B</th>\n",
       "      <th>LSTAT</th>\n",
       "    </tr>\n",
       "  </thead>\n",
       "  <tbody>\n",
       "    <tr>\n",
       "      <th>0</th>\n",
       "      <td>0.00632</td>\n",
       "      <td>18.0</td>\n",
       "      <td>2.31</td>\n",
       "      <td>0</td>\n",
       "      <td>0.538</td>\n",
       "      <td>6.575</td>\n",
       "      <td>65.2</td>\n",
       "      <td>4.0900</td>\n",
       "      <td>1</td>\n",
       "      <td>296</td>\n",
       "      <td>15.3</td>\n",
       "      <td>396.90</td>\n",
       "      <td>4.98</td>\n",
       "    </tr>\n",
       "    <tr>\n",
       "      <th>1</th>\n",
       "      <td>0.02731</td>\n",
       "      <td>0.0</td>\n",
       "      <td>7.07</td>\n",
       "      <td>0</td>\n",
       "      <td>0.469</td>\n",
       "      <td>6.421</td>\n",
       "      <td>78.9</td>\n",
       "      <td>4.9671</td>\n",
       "      <td>2</td>\n",
       "      <td>242</td>\n",
       "      <td>17.8</td>\n",
       "      <td>396.90</td>\n",
       "      <td>9.14</td>\n",
       "    </tr>\n",
       "    <tr>\n",
       "      <th>2</th>\n",
       "      <td>0.02729</td>\n",
       "      <td>0.0</td>\n",
       "      <td>7.07</td>\n",
       "      <td>0</td>\n",
       "      <td>0.469</td>\n",
       "      <td>7.185</td>\n",
       "      <td>61.1</td>\n",
       "      <td>4.9671</td>\n",
       "      <td>2</td>\n",
       "      <td>242</td>\n",
       "      <td>17.8</td>\n",
       "      <td>392.83</td>\n",
       "      <td>4.03</td>\n",
       "    </tr>\n",
       "    <tr>\n",
       "      <th>3</th>\n",
       "      <td>0.03237</td>\n",
       "      <td>0.0</td>\n",
       "      <td>2.18</td>\n",
       "      <td>0</td>\n",
       "      <td>0.458</td>\n",
       "      <td>6.998</td>\n",
       "      <td>45.8</td>\n",
       "      <td>6.0622</td>\n",
       "      <td>3</td>\n",
       "      <td>222</td>\n",
       "      <td>18.7</td>\n",
       "      <td>394.63</td>\n",
       "      <td>2.94</td>\n",
       "    </tr>\n",
       "    <tr>\n",
       "      <th>4</th>\n",
       "      <td>0.06905</td>\n",
       "      <td>0.0</td>\n",
       "      <td>2.18</td>\n",
       "      <td>0</td>\n",
       "      <td>0.458</td>\n",
       "      <td>7.147</td>\n",
       "      <td>54.2</td>\n",
       "      <td>6.0622</td>\n",
       "      <td>3</td>\n",
       "      <td>222</td>\n",
       "      <td>18.7</td>\n",
       "      <td>396.90</td>\n",
       "      <td>5.33</td>\n",
       "    </tr>\n",
       "  </tbody>\n",
       "</table>\n",
       "</div>"
      ],
      "text/plain": [
       "      CRIM    ZN  INDUS  CHAS    NOX     RM   AGE     DIS  RAD  TAX  PTRATIO  \\\n",
       "0  0.00632  18.0   2.31     0  0.538  6.575  65.2  4.0900    1  296     15.3   \n",
       "1  0.02731   0.0   7.07     0  0.469  6.421  78.9  4.9671    2  242     17.8   \n",
       "2  0.02729   0.0   7.07     0  0.469  7.185  61.1  4.9671    2  242     17.8   \n",
       "3  0.03237   0.0   2.18     0  0.458  6.998  45.8  6.0622    3  222     18.7   \n",
       "4  0.06905   0.0   2.18     0  0.458  7.147  54.2  6.0622    3  222     18.7   \n",
       "\n",
       "        B  LSTAT  \n",
       "0  396.90   4.98  \n",
       "1  396.90   9.14  \n",
       "2  392.83   4.03  \n",
       "3  394.63   2.94  \n",
       "4  396.90   5.33  "
      ]
     },
     "execution_count": 103,
     "metadata": {},
     "output_type": "execute_result"
    }
   ],
   "source": [
    "# Load Boston Data Set\n",
    "Boston = pd.read_csv('C:/Python_Data_Sets/Boston.csv')\n",
    "Boston.head()"
   ]
  },
  {
   "cell_type": "markdown",
   "id": "b18c4d47",
   "metadata": {},
   "source": [
    "Now, we need to perform power transformations using NumPy. First, let's make a copy of the original dataframe using pandas copy() so that we\n",
    "can modify the values in the copy and not in the original dataframe, which we need for the rest of this example:"
   ]
  },
  {
   "cell_type": "code",
   "execution_count": null,
   "id": "e443adc4",
   "metadata": {},
   "outputs": [],
   "source": [
    "Boston_tf = Boston.copy()"
   ]
  },
  {
   "cell_type": "markdown",
   "id": "d2009419",
   "metadata": {},
   "source": [
    "Let's apply a power transformation with NumPy, where the exponent is 0.3. With np.power(), we can apply any exponential transformation by changing the value of the exponent in the second position of the method:"
   ]
  },
  {
   "cell_type": "code",
   "execution_count": 106,
   "id": "f2114347",
   "metadata": {},
   "outputs": [],
   "source": [
    "Boston_tf[['LSTAT', 'NOX', 'DIS', 'RM']] = np.power(Boston[['LSTAT', 'NOX', 'DIS', 'RM']], 0.3)"
   ]
  },
  {
   "cell_type": "markdown",
   "id": "377910d1",
   "metadata": {},
   "source": [
    "Now, let's apply a power transformation with scikit-learn. Let's call FunctionTransformer() while passing a power of 0.3 using\n",
    "np.power within a lambda function. FunctionTransformer() from scikit-learn doesn't need to be fit to the\n",
    "data since there are no parameters that need to be learned."
   ]
  },
  {
   "cell_type": "code",
   "execution_count": 107,
   "id": "5d309436",
   "metadata": {},
   "outputs": [],
   "source": [
    "transformer = FunctionTransformer(lambda x: np.power(x, 0.3))"
   ]
  },
  {
   "cell_type": "markdown",
   "id": "a39d02f3",
   "metadata": {},
   "source": [
    "Now, let's transform a group of variables:"
   ]
  },
  {
   "cell_type": "code",
   "execution_count": 108,
   "id": "ce776048",
   "metadata": {},
   "outputs": [],
   "source": [
    "Boston_tf = transformer.transform(Boston[['LSTAT', 'NOX', 'DIS', 'RM']])"
   ]
  },
  {
   "cell_type": "markdown",
   "id": "0e7097b3",
   "metadata": {},
   "source": [
    "PowerTransformer() returns an NumPy array with only the transformed\n",
    "variables. Finally, let's perform an exponential transformation with Feature-engine. Let's start PowerTransformer() with the exponent 0.3 and the variables to\n",
    "transform. Then, we'll fit it to the data. If we don't define the variables to transform, PowerTransformer() will\n",
    "select all the numerical variables in the dataframe."
   ]
  },
  {
   "cell_type": "code",
   "execution_count": 112,
   "id": "f8d2f174",
   "metadata": {},
   "outputs": [
    {
     "data": {
      "text/plain": [
       "PowerTransformer(exp=0.3, variables=['LSTAT', 'NOX', 'DIS', 'RM'])"
      ]
     },
     "execution_count": 112,
     "metadata": {},
     "output_type": "execute_result"
    }
   ],
   "source": [
    "et = vt.PowerTransformer(variables = ['LSTAT', 'NOX', 'DIS', 'RM'], exp = 0.3)\n",
    "et.fit(Boston)"
   ]
  },
  {
   "cell_type": "markdown",
   "id": "61b13cb9",
   "metadata": {},
   "source": [
    "Finally, let's transform the variables in our dataset:"
   ]
  },
  {
   "cell_type": "code",
   "execution_count": 113,
   "id": "c07f379c",
   "metadata": {},
   "outputs": [],
   "source": [
    "Boston_tf = et.transform(Boston)"
   ]
  },
  {
   "cell_type": "markdown",
   "id": "da79ff52",
   "metadata": {},
   "source": [
    "# Performing Box-Cox transformation on numerical variables"
   ]
  },
  {
   "cell_type": "code",
   "execution_count": 115,
   "id": "381352c2",
   "metadata": {},
   "outputs": [],
   "source": [
    "import numpy as np\n",
    "import pandas as pd\n",
    "import scipy.stats as stats\n",
    "from sklearn.datasets import load_boston\n",
    "from sklearn.preprocessing import PowerTransformer\n",
    "from feature_engine import transformation as vt"
   ]
  },
  {
   "cell_type": "code",
   "execution_count": 116,
   "id": "9089f9e9",
   "metadata": {},
   "outputs": [
    {
     "data": {
      "text/html": [
       "<div>\n",
       "<style scoped>\n",
       "    .dataframe tbody tr th:only-of-type {\n",
       "        vertical-align: middle;\n",
       "    }\n",
       "\n",
       "    .dataframe tbody tr th {\n",
       "        vertical-align: top;\n",
       "    }\n",
       "\n",
       "    .dataframe thead th {\n",
       "        text-align: right;\n",
       "    }\n",
       "</style>\n",
       "<table border=\"1\" class=\"dataframe\">\n",
       "  <thead>\n",
       "    <tr style=\"text-align: right;\">\n",
       "      <th></th>\n",
       "      <th>CRIM</th>\n",
       "      <th>ZN</th>\n",
       "      <th>INDUS</th>\n",
       "      <th>CHAS</th>\n",
       "      <th>NOX</th>\n",
       "      <th>RM</th>\n",
       "      <th>AGE</th>\n",
       "      <th>DIS</th>\n",
       "      <th>RAD</th>\n",
       "      <th>TAX</th>\n",
       "      <th>PTRATIO</th>\n",
       "      <th>B</th>\n",
       "      <th>LSTAT</th>\n",
       "    </tr>\n",
       "  </thead>\n",
       "  <tbody>\n",
       "    <tr>\n",
       "      <th>0</th>\n",
       "      <td>0.00632</td>\n",
       "      <td>18.0</td>\n",
       "      <td>2.31</td>\n",
       "      <td>0</td>\n",
       "      <td>0.538</td>\n",
       "      <td>6.575</td>\n",
       "      <td>65.2</td>\n",
       "      <td>4.0900</td>\n",
       "      <td>1</td>\n",
       "      <td>296</td>\n",
       "      <td>15.3</td>\n",
       "      <td>396.90</td>\n",
       "      <td>4.98</td>\n",
       "    </tr>\n",
       "    <tr>\n",
       "      <th>1</th>\n",
       "      <td>0.02731</td>\n",
       "      <td>0.0</td>\n",
       "      <td>7.07</td>\n",
       "      <td>0</td>\n",
       "      <td>0.469</td>\n",
       "      <td>6.421</td>\n",
       "      <td>78.9</td>\n",
       "      <td>4.9671</td>\n",
       "      <td>2</td>\n",
       "      <td>242</td>\n",
       "      <td>17.8</td>\n",
       "      <td>396.90</td>\n",
       "      <td>9.14</td>\n",
       "    </tr>\n",
       "    <tr>\n",
       "      <th>2</th>\n",
       "      <td>0.02729</td>\n",
       "      <td>0.0</td>\n",
       "      <td>7.07</td>\n",
       "      <td>0</td>\n",
       "      <td>0.469</td>\n",
       "      <td>7.185</td>\n",
       "      <td>61.1</td>\n",
       "      <td>4.9671</td>\n",
       "      <td>2</td>\n",
       "      <td>242</td>\n",
       "      <td>17.8</td>\n",
       "      <td>392.83</td>\n",
       "      <td>4.03</td>\n",
       "    </tr>\n",
       "    <tr>\n",
       "      <th>3</th>\n",
       "      <td>0.03237</td>\n",
       "      <td>0.0</td>\n",
       "      <td>2.18</td>\n",
       "      <td>0</td>\n",
       "      <td>0.458</td>\n",
       "      <td>6.998</td>\n",
       "      <td>45.8</td>\n",
       "      <td>6.0622</td>\n",
       "      <td>3</td>\n",
       "      <td>222</td>\n",
       "      <td>18.7</td>\n",
       "      <td>394.63</td>\n",
       "      <td>2.94</td>\n",
       "    </tr>\n",
       "    <tr>\n",
       "      <th>4</th>\n",
       "      <td>0.06905</td>\n",
       "      <td>0.0</td>\n",
       "      <td>2.18</td>\n",
       "      <td>0</td>\n",
       "      <td>0.458</td>\n",
       "      <td>7.147</td>\n",
       "      <td>54.2</td>\n",
       "      <td>6.0622</td>\n",
       "      <td>3</td>\n",
       "      <td>222</td>\n",
       "      <td>18.7</td>\n",
       "      <td>396.90</td>\n",
       "      <td>5.33</td>\n",
       "    </tr>\n",
       "  </tbody>\n",
       "</table>\n",
       "</div>"
      ],
      "text/plain": [
       "      CRIM    ZN  INDUS  CHAS    NOX     RM   AGE     DIS  RAD  TAX  PTRATIO  \\\n",
       "0  0.00632  18.0   2.31     0  0.538  6.575  65.2  4.0900    1  296     15.3   \n",
       "1  0.02731   0.0   7.07     0  0.469  6.421  78.9  4.9671    2  242     17.8   \n",
       "2  0.02729   0.0   7.07     0  0.469  7.185  61.1  4.9671    2  242     17.8   \n",
       "3  0.03237   0.0   2.18     0  0.458  6.998  45.8  6.0622    3  222     18.7   \n",
       "4  0.06905   0.0   2.18     0  0.458  7.147  54.2  6.0622    3  222     18.7   \n",
       "\n",
       "        B  LSTAT  \n",
       "0  396.90   4.98  \n",
       "1  396.90   9.14  \n",
       "2  392.83   4.03  \n",
       "3  394.63   2.94  \n",
       "4  396.90   5.33  "
      ]
     },
     "execution_count": 116,
     "metadata": {},
     "output_type": "execute_result"
    }
   ],
   "source": [
    "# Load Boston Data Set\n",
    "Boston = pd.read_csv('C:/Python_Data_Sets/Boston.csv')\n",
    "Boston.head()"
   ]
  },
  {
   "cell_type": "markdown",
   "id": "706e0438",
   "metadata": {},
   "source": [
    "Now, let's perform the Box-Cox transformation using scipy.stats. First, let's make a copy of the original dataframe using pandas copy() so that we\n",
    "can modify the values in the copy and not in the original dataframe:"
   ]
  },
  {
   "cell_type": "code",
   "execution_count": 136,
   "id": "a610fe63",
   "metadata": {},
   "outputs": [],
   "source": [
    "Boston_tf = Boston.copy()"
   ]
  },
  {
   "cell_type": "markdown",
   "id": "558b6a96",
   "metadata": {},
   "source": [
    "Let's apply the Box-Cox transformation with SciPy to the LSTAT variable:"
   ]
  },
  {
   "cell_type": "code",
   "execution_count": 137,
   "id": "5a79e9ae",
   "metadata": {},
   "outputs": [],
   "source": [
    "Boston_tf['LSTAT'], param = stats.boxcox(Boston['LSTAT'])"
   ]
  },
  {
   "cell_type": "markdown",
   "id": "6ab01c3c",
   "metadata": {},
   "source": [
    "scipy.stats.boxcox() can only be applied to one-dimensional data,\n",
    "and returns two parameters: the transformed variable and the optimal\n",
    "lambda for the transformation, which we capture in the param variable. Let's print the optimal lambda that we identified for the Box-Cox transformation\n",
    "of LSTAT:"
   ]
  },
  {
   "cell_type": "code",
   "execution_count": 138,
   "id": "d2022183",
   "metadata": {},
   "outputs": [
    {
     "name": "stdout",
     "output_type": "stream",
     "text": [
      "Optimal λ:  0.22776736893884023\n"
     ]
    }
   ],
   "source": [
    "# The following output shows the best lambda for this:\n",
    "print('Optimal λ: ', param)"
   ]
  },
  {
   "cell_type": "markdown",
   "id": "b734721d",
   "metadata": {},
   "source": [
    "To evaluate the effect of the transformation on the variable distribution, we'll\n",
    "create a function that takes a dataframe and a variable name as inputs and plots a\n",
    "histogram next to a Q-Q plot:"
   ]
  },
  {
   "cell_type": "code",
   "execution_count": 139,
   "id": "61614d25",
   "metadata": {},
   "outputs": [
    {
     "data": {
      "image/png": "[encoded data removed]",
      "text/plain": [
       "<Figure size 1080x432 with 2 Axes>"
      ]
     },
     "metadata": {
      "needs_background": "light"
     },
     "output_type": "display_data"
    }
   ],
   "source": [
    "diagnostic_plots(Boston, 'DIS')"
   ]
  },
  {
   "cell_type": "markdown",
   "id": "4a7c02d1",
   "metadata": {},
   "source": [
    "Let's check the distribution of the DIS variable after the transformation with the diagnostic function we created earlier. The transformed DIS distribution can be seen in the plots that are returned by the following code block:"
   ]
  },
  {
   "cell_type": "code",
   "execution_count": 140,
   "id": "1d817fa8",
   "metadata": {},
   "outputs": [
    {
     "data": {
      "image/png": "[encoded data removed]",
      "text/plain": [
       "<Figure size 1080x432 with 2 Axes>"
      ]
     },
     "metadata": {
      "needs_background": "light"
     },
     "output_type": "display_data"
    }
   ],
   "source": [
    "diagnostic_plots(Boston_tf, 'DIS')"
   ]
  },
  {
   "cell_type": "markdown",
   "id": "e59d0a6d",
   "metadata": {},
   "source": [
    "Now, let's apply the Box-Cox transformation using scikit-learn. Let's start PowerTransformer() by specifying Box-Cox as an argument:"
   ]
  },
  {
   "cell_type": "code",
   "execution_count": null,
   "id": "5f2c7d96",
   "metadata": {},
   "outputs": [],
   "source": [
    "transformer = PowerTransformer(method = 'box-cox', standardize = False)"
   ]
  },
  {
   "cell_type": "markdown",
   "id": "321e1817",
   "metadata": {},
   "source": [
    "Let's create a list with the variables we want to transform and then fit the \n",
    "transformer to the slice of the dataset that contains these variables:"
   ]
  },
  {
   "cell_type": "code",
   "execution_count": 142,
   "id": "d6f8e36d",
   "metadata": {},
   "outputs": [
    {
     "data": {
      "text/plain": [
       "FunctionTransformer(func=<function <lambda> at 0x0000026751430D30>)"
      ]
     },
     "execution_count": 142,
     "metadata": {},
     "output_type": "execute_result"
    }
   ],
   "source": [
    "cols = ['LSTAT', 'NOX', 'DIS', 'RM']\n",
    "transformer.fit(Boston[cols])"
   ]
  },
  {
   "cell_type": "markdown",
   "id": "eb4669e9",
   "metadata": {},
   "source": [
    "Remember that the parameters need to be learned from the train set and\n",
    "used to transform the train and test sets. Due to this, you should divide\n",
    "your data into train and test sets before fitting PowerTransformer(). Now, let's transform the dataset:"
   ]
  },
  {
   "cell_type": "code",
   "execution_count": 146,
   "id": "ef28d8d5",
   "metadata": {},
   "outputs": [],
   "source": [
    "Boston_tf = transformer.transform(Boston[cols])"
   ]
  },
  {
   "cell_type": "markdown",
   "id": "a53f2ff9",
   "metadata": {},
   "source": [
    "Scikit-learn returns a NumPy array with the transformed variables, which we can\n",
    "convert into a pandas dataframe by executing Boston_tf = pd.DataFrame(Boston_tf, columns = cols). Scikit-learn's PowerTransformer() stores the learned lambdas in its\n",
    "lambdas_ attribute, which you can display by executing\n",
    "transformer.lambdas_. Now, let's implement the Box-Cox transformation with Feature-engine. Let's start BoxCoxTransformer() by specifying the variables to transform in a\n",
    "list and then fit it to the dataset:"
   ]
  },
  {
   "cell_type": "code",
   "execution_count": 148,
   "id": "9caa056b",
   "metadata": {},
   "outputs": [
    {
     "data": {
      "text/plain": [
       "BoxCoxTransformer(variables=['LSTAT', 'NOX', 'DIS', 'RM'])"
      ]
     },
     "execution_count": 148,
     "metadata": {},
     "output_type": "execute_result"
    }
   ],
   "source": [
    "bct = vt.BoxCoxTransformer(variables = ['LSTAT', 'NOX', 'DIS', 'RM'])\n",
    "bct.fit(Boston)"
   ]
  },
  {
   "cell_type": "markdown",
   "id": "6d2a4933",
   "metadata": {},
   "source": [
    "Now, we'll transform the indicated variables in our data:"
   ]
  },
  {
   "cell_type": "code",
   "execution_count": 149,
   "id": "a94a45f3",
   "metadata": {},
   "outputs": [],
   "source": [
    "Boston_tf = bct.transform(Boston)"
   ]
  },
  {
   "cell_type": "markdown",
   "id": "14282b9b",
   "metadata": {},
   "source": [
    "Note that, compared to PowerTransformer() from scikit-learn,\n",
    "BoxCoxTransformer() from Feature-engine can take the entire\n",
    "dataframe as input, but it will only transform the variables that are\n",
    "specified when we start the transformer.\n",
    "Feature-engine's transformer returns a dataframe with the original variables\n",
    "where those indicated in an earlier step were transformed by Box-Cox. The optimal lambdas for each variable are stored in the lambda_dict_ attribute.\n",
    "Let's inspect them:"
   ]
  },
  {
   "cell_type": "code",
   "execution_count": 150,
   "id": "f4dd7a72",
   "metadata": {},
   "outputs": [
    {
     "data": {
      "text/plain": [
       "{'LSTAT': 0.22776736893884023,\n",
       " 'NOX': -0.9156120907279849,\n",
       " 'DIS': -0.15560583167193484,\n",
       " 'RM': 0.4489597919730037}"
      ]
     },
     "execution_count": 150,
     "metadata": {},
     "output_type": "execute_result"
    }
   ],
   "source": [
    "bct.lambda_dict_"
   ]
  },
  {
   "cell_type": "markdown",
   "id": "6cc34bc8",
   "metadata": {},
   "source": [
    "# Performing Yeo-Johnson transformation on numerical variables"
   ]
  },
  {
   "cell_type": "code",
   "execution_count": 151,
   "id": "de937ece",
   "metadata": {},
   "outputs": [],
   "source": [
    "import numpy as np\n",
    "import pandas as pd\n",
    "import scipy.stats as stats\n",
    "from sklearn.datasets import load_boston\n",
    "from sklearn.preprocessing import PowerTransformer\n",
    "from feature_engine import transformation as vt"
   ]
  },
  {
   "cell_type": "code",
   "execution_count": 152,
   "id": "07f30cc6",
   "metadata": {},
   "outputs": [
    {
     "data": {
      "text/html": [
       "<div>\n",
       "<style scoped>\n",
       "    .dataframe tbody tr th:only-of-type {\n",
       "        vertical-align: middle;\n",
       "    }\n",
       "\n",
       "    .dataframe tbody tr th {\n",
       "        vertical-align: top;\n",
       "    }\n",
       "\n",
       "    .dataframe thead th {\n",
       "        text-align: right;\n",
       "    }\n",
       "</style>\n",
       "<table border=\"1\" class=\"dataframe\">\n",
       "  <thead>\n",
       "    <tr style=\"text-align: right;\">\n",
       "      <th></th>\n",
       "      <th>CRIM</th>\n",
       "      <th>ZN</th>\n",
       "      <th>INDUS</th>\n",
       "      <th>CHAS</th>\n",
       "      <th>NOX</th>\n",
       "      <th>RM</th>\n",
       "      <th>AGE</th>\n",
       "      <th>DIS</th>\n",
       "      <th>RAD</th>\n",
       "      <th>TAX</th>\n",
       "      <th>PTRATIO</th>\n",
       "      <th>B</th>\n",
       "      <th>LSTAT</th>\n",
       "    </tr>\n",
       "  </thead>\n",
       "  <tbody>\n",
       "    <tr>\n",
       "      <th>0</th>\n",
       "      <td>0.00632</td>\n",
       "      <td>18.0</td>\n",
       "      <td>2.31</td>\n",
       "      <td>0</td>\n",
       "      <td>0.538</td>\n",
       "      <td>6.575</td>\n",
       "      <td>65.2</td>\n",
       "      <td>4.0900</td>\n",
       "      <td>1</td>\n",
       "      <td>296</td>\n",
       "      <td>15.3</td>\n",
       "      <td>396.90</td>\n",
       "      <td>4.98</td>\n",
       "    </tr>\n",
       "    <tr>\n",
       "      <th>1</th>\n",
       "      <td>0.02731</td>\n",
       "      <td>0.0</td>\n",
       "      <td>7.07</td>\n",
       "      <td>0</td>\n",
       "      <td>0.469</td>\n",
       "      <td>6.421</td>\n",
       "      <td>78.9</td>\n",
       "      <td>4.9671</td>\n",
       "      <td>2</td>\n",
       "      <td>242</td>\n",
       "      <td>17.8</td>\n",
       "      <td>396.90</td>\n",
       "      <td>9.14</td>\n",
       "    </tr>\n",
       "    <tr>\n",
       "      <th>2</th>\n",
       "      <td>0.02729</td>\n",
       "      <td>0.0</td>\n",
       "      <td>7.07</td>\n",
       "      <td>0</td>\n",
       "      <td>0.469</td>\n",
       "      <td>7.185</td>\n",
       "      <td>61.1</td>\n",
       "      <td>4.9671</td>\n",
       "      <td>2</td>\n",
       "      <td>242</td>\n",
       "      <td>17.8</td>\n",
       "      <td>392.83</td>\n",
       "      <td>4.03</td>\n",
       "    </tr>\n",
       "    <tr>\n",
       "      <th>3</th>\n",
       "      <td>0.03237</td>\n",
       "      <td>0.0</td>\n",
       "      <td>2.18</td>\n",
       "      <td>0</td>\n",
       "      <td>0.458</td>\n",
       "      <td>6.998</td>\n",
       "      <td>45.8</td>\n",
       "      <td>6.0622</td>\n",
       "      <td>3</td>\n",
       "      <td>222</td>\n",
       "      <td>18.7</td>\n",
       "      <td>394.63</td>\n",
       "      <td>2.94</td>\n",
       "    </tr>\n",
       "    <tr>\n",
       "      <th>4</th>\n",
       "      <td>0.06905</td>\n",
       "      <td>0.0</td>\n",
       "      <td>2.18</td>\n",
       "      <td>0</td>\n",
       "      <td>0.458</td>\n",
       "      <td>7.147</td>\n",
       "      <td>54.2</td>\n",
       "      <td>6.0622</td>\n",
       "      <td>3</td>\n",
       "      <td>222</td>\n",
       "      <td>18.7</td>\n",
       "      <td>396.90</td>\n",
       "      <td>5.33</td>\n",
       "    </tr>\n",
       "  </tbody>\n",
       "</table>\n",
       "</div>"
      ],
      "text/plain": [
       "      CRIM    ZN  INDUS  CHAS    NOX     RM   AGE     DIS  RAD  TAX  PTRATIO  \\\n",
       "0  0.00632  18.0   2.31     0  0.538  6.575  65.2  4.0900    1  296     15.3   \n",
       "1  0.02731   0.0   7.07     0  0.469  6.421  78.9  4.9671    2  242     17.8   \n",
       "2  0.02729   0.0   7.07     0  0.469  7.185  61.1  4.9671    2  242     17.8   \n",
       "3  0.03237   0.0   2.18     0  0.458  6.998  45.8  6.0622    3  222     18.7   \n",
       "4  0.06905   0.0   2.18     0  0.458  7.147  54.2  6.0622    3  222     18.7   \n",
       "\n",
       "        B  LSTAT  \n",
       "0  396.90   4.98  \n",
       "1  396.90   9.14  \n",
       "2  392.83   4.03  \n",
       "3  394.63   2.94  \n",
       "4  396.90   5.33  "
      ]
     },
     "execution_count": 152,
     "metadata": {},
     "output_type": "execute_result"
    }
   ],
   "source": [
    "# Load Boston Data Set\n",
    "Boston = pd.read_csv('C:/Python_Data_Sets/Boston.csv')\n",
    "Boston.head()"
   ]
  },
  {
   "cell_type": "code",
   "execution_count": 157,
   "id": "bbfbd3ff",
   "metadata": {},
   "outputs": [
    {
     "name": "stdout",
     "output_type": "stream",
     "text": [
      "<class 'pandas.core.frame.DataFrame'>\n",
      "RangeIndex: 506 entries, 0 to 505\n",
      "Data columns (total 13 columns):\n",
      " #   Column   Non-Null Count  Dtype  \n",
      "---  ------   --------------  -----  \n",
      " 0   CRIM     506 non-null    float64\n",
      " 1   ZN       506 non-null    float64\n",
      " 2   INDUS    506 non-null    float64\n",
      " 3   CHAS     506 non-null    int64  \n",
      " 4   NOX      506 non-null    float64\n",
      " 5   RM       506 non-null    float64\n",
      " 6   AGE      506 non-null    float64\n",
      " 7   DIS      506 non-null    float64\n",
      " 8   RAD      506 non-null    int64  \n",
      " 9   TAX      506 non-null    int64  \n",
      " 10  PTRATIO  506 non-null    float64\n",
      " 11  B        506 non-null    float64\n",
      " 12  LSTAT    506 non-null    float64\n",
      "dtypes: float64(10), int64(3)\n",
      "memory usage: 51.5 KB\n"
     ]
    }
   ],
   "source": [
    "Boston.info()"
   ]
  },
  {
   "cell_type": "markdown",
   "id": "15d96b4d",
   "metadata": {},
   "source": [
    "Now, let's apply the Yeo-Johnson transformation using SciPy. First, let's make a copy of the original dataframe with pandas copy() so that we\n",
    "can modify the values in the copy and not in the original dataframe:"
   ]
  },
  {
   "cell_type": "code",
   "execution_count": 153,
   "id": "0d776890",
   "metadata": {},
   "outputs": [],
   "source": [
    "Boston_tf = Boston.copy()"
   ]
  },
  {
   "cell_type": "markdown",
   "id": "f459e4ec",
   "metadata": {},
   "source": [
    "Let's apply the Yeo-Johnson transformation using SciPy to the LSTAT variable:"
   ]
  },
  {
   "cell_type": "code",
   "execution_count": null,
   "id": "0b388f6c",
   "metadata": {},
   "outputs": [],
   "source": [
    "Boston_tf['LSTAT'], param = stats.yeojohnson(Boston['LSTAT'])"
   ]
  },
  {
   "cell_type": "markdown",
   "id": "b03d88de",
   "metadata": {},
   "source": [
    "scipy.stats.yeojohnson() can only be applied to one-dimensional\n",
    "data and returns two parameters: the transformed variable and the\n",
    "optimal lambda for the transformation, which we capture in the\n",
    "param variable. Let's inspect the optimal lambda for the transformation:"
   ]
  },
  {
   "cell_type": "code",
   "execution_count": 154,
   "id": "639730ad",
   "metadata": {},
   "outputs": [
    {
     "name": "stdout",
     "output_type": "stream",
     "text": [
      "Optimal λ:  0.22776736893884023\n"
     ]
    }
   ],
   "source": [
    "print('Optimal λ: ', param)"
   ]
  },
  {
   "cell_type": "markdown",
   "id": "b1a6b802",
   "metadata": {},
   "source": [
    "We can check the effect of the variable transformation with the diagnostic\n",
    "function that we described in an earlier step of the Transforming variables with the\n",
    "logarithm code. Now, let's apply the Yeo-Johnson transformation with scikit-learn.\n",
    "Let's initialize PowerTransformer() by passing the yeo-johnson string in the\n",
    "method:"
   ]
  },
  {
   "cell_type": "code",
   "execution_count": 155,
   "id": "41d1bd85",
   "metadata": {},
   "outputs": [],
   "source": [
    "transformer = PowerTransformer(method = 'yeo-johnson')"
   ]
  },
  {
   "cell_type": "markdown",
   "id": "45e9159d",
   "metadata": {},
   "source": [
    "Let's create a list with the variables we want to transform and then fit the\n",
    "transformer to the slice of the dataset that contains these variables:\n"
   ]
  },
  {
   "cell_type": "code",
   "execution_count": 156,
   "id": "e8cf907f",
   "metadata": {},
   "outputs": [
    {
     "data": {
      "text/plain": [
       "PowerTransformer()"
      ]
     },
     "execution_count": 156,
     "metadata": {},
     "output_type": "execute_result"
    }
   ],
   "source": [
    "cols = ['LSTAT', 'NOX', 'DIS', 'RM']\n",
    "transformer.fit(Boston[cols])"
   ]
  },
  {
   "cell_type": "markdown",
   "id": "8aca21ee",
   "metadata": {},
   "source": [
    "Remember that the parameters for the Yeo-Johnson transformation should\n",
    "only be learned using the train set, so you must divide your dataset into\n",
    "train and test sets before fitting the transformer."
   ]
  },
  {
   "cell_type": "code",
   "execution_count": 162,
   "id": "1133770f",
   "metadata": {},
   "outputs": [],
   "source": [
    "# define x and y\n",
    "feature_cols = ['CRIM', 'ZN', 'INDUS', 'CHAS', 'NOX', 'RM', 'AGE', 'DIS', 'RAD', 'TAX', 'PTRATIO', 'B', 'LSTAT'] \n",
    "X = Boston[feature_cols]\n",
    "X = pd.DataFrame(X)\n",
    "# split X and Y into training and test sets\n",
    "from sklearn.model_selection import train_test_split\n",
    "X_train, X_test, Y_train, Y_test = train_test_split(X, X['LSTAT'], test_size = 0.25, shuffle = True, random_state = 66)"
   ]
  },
  {
   "cell_type": "code",
   "execution_count": 163,
   "id": "5f44ddec",
   "metadata": {},
   "outputs": [],
   "source": [
    "Boston_tf = transformer.transform(X_train[cols])"
   ]
  },
  {
   "cell_type": "markdown",
   "id": "974113f9",
   "metadata": {},
   "source": [
    "PowerTransformer() stores the learned parameters in its attribute\n",
    "lambda, which you can return by executing transformer.lambda_.\n",
    "Finally, let's implement the Yeo-Johnson transformation with Feature-engine. We'll initialize YeoJohnsonTransformer() by specifying which variables to\n",
    "transform and then fit it to the dataset:"
   ]
  },
  {
   "cell_type": "code",
   "execution_count": 165,
   "id": "ba6eb971",
   "metadata": {},
   "outputs": [
    {
     "data": {
      "text/plain": [
       "YeoJohnsonTransformer(variables=['LSTAT', 'NOX', 'DIS', 'RM'])"
      ]
     },
     "execution_count": 165,
     "metadata": {},
     "output_type": "execute_result"
    }
   ],
   "source": [
    "yjt = vt.YeoJohnsonTransformer(variables = ['LSTAT', 'NOX', 'DIS', 'RM'])\n",
    "yjt.fit(X_train)"
   ]
  },
  {
   "cell_type": "markdown",
   "id": "e56d462a",
   "metadata": {},
   "source": [
    "If the variables argument is left as None, the transformer selects and\n",
    "transforms all the numerical variables in the dataset.\n",
    "Note that, compared to PowerTransformer() from scikit-learn, the\n",
    "Feature-engine's transformer can take the entire dataframe as an argument\n",
    "of the fit() method. Let's transform the specified variables in our data:"
   ]
  },
  {
   "cell_type": "code",
   "execution_count": 166,
   "id": "3b036fb8",
   "metadata": {},
   "outputs": [],
   "source": [
    "Boston_tf = yjt.transform(X_train)"
   ]
  },
  {
   "cell_type": "markdown",
   "id": "19d854f0",
   "metadata": {},
   "source": [
    "YeoJohnsonTrasnformer() stores the best parameters per variable in its\n",
    "lambda_dict_ attribute, which we can print as follows:"
   ]
  },
  {
   "cell_type": "code",
   "execution_count": 167,
   "id": "f6eb33da",
   "metadata": {},
   "outputs": [
    {
     "data": {
      "text/plain": [
       "{'LSTAT': 0.15588216732965446,\n",
       " 'NOX': -3.7008326043751323,\n",
       " 'DIS': -0.5153921342265241,\n",
       " 'RM': 0.6999368914405468}"
      ]
     },
     "execution_count": 167,
     "metadata": {},
     "output_type": "execute_result"
    }
   ],
   "source": [
    "yjt.lambda_dict_"
   ]
  },
  {
   "cell_type": "code",
   "execution_count": null,
   "id": "d92ce159",
   "metadata": {},
   "outputs": [],
   "source": []
  }
 ],
 "metadata": {
  "kernelspec": {
   "display_name": "Python 3 (ipykernel)",
   "language": "python",
   "name": "python3"
  },
  "language_info": {
   "codemirror_mode": {
    "name": "ipython",
    "version": 3
   },
   "file_extension": ".py",
   "mimetype": "text/x-python",
   "name": "python",
   "nbconvert_exporter": "python",
   "pygments_lexer": "ipython3",
   "version": "3.10.0"
  }
 },
 "nbformat": 4,
 "nbformat_minor": 5
}
